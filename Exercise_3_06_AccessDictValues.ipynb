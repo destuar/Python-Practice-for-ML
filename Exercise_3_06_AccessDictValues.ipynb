{
 "cells": [
  {
   "cell_type": "markdown",
   "metadata": {},
   "source": [
    "Link to Medium blog post: https://betterprogramming.pub/3-ways-to-access-python-dictionary-values-e353d0830931"
   ]
  },
  {
   "cell_type": "markdown",
   "metadata": {},
   "source": [
    "# 3 Ways To Access Python Dictionary Values"
   ]
  },
  {
   "cell_type": "markdown",
   "metadata": {},
   "source": [
    "Dictionaries are one of my favorite data types in Python. The major reason is that they store key-value pairs. Essentially, they can be used to hold two categories of information with related items in a matched order.\n",
    "\n",
    "For instance, let’s say we have the following dictionary to store the grades of some students:\n",
    "\n"
   ]
  },
  {
   "cell_type": "code",
   "execution_count": 1,
   "metadata": {},
   "outputs": [],
   "source": [
    "grades = {\"Anne\": 98, \"John\": 95, \"Bella\": 97}"
   ]
  },
  {
   "cell_type": "markdown",
   "metadata": {},
   "source": [
    "This dictionary holds the following two sets of information: the students (names as the keys) and the grades. In addition, each student is associated with their own grade.\n",
    "\n",
    "There are multiple approaches to retrieving the values stored in a dictionary. In this article, we’ll talk about them. More importantly, we’ll discuss the best practices."
   ]
  },
  {
   "cell_type": "markdown",
   "metadata": {},
   "source": [
    "## Subscript Notations"
   ]
  },
  {
   "cell_type": "markdown",
   "metadata": {},
   "source": [
    "The first approach to accessing a student’s grade is to use the subscript notation method, as shown below:"
   ]
  },
  {
   "cell_type": "code",
   "execution_count": 3,
   "metadata": {},
   "outputs": [
    {
     "name": "stdout",
     "output_type": "stream",
     "text": [
      "98\n",
      "95\n"
     ]
    }
   ],
   "source": [
    "grades[\"Anne\"]\n",
    "print(grades[\"Anne\"])\n",
    "grades[\"John\"]\n",
    "print(grades[\"John\"])"
   ]
  },
  {
   "cell_type": "markdown",
   "metadata": {},
   "source": [
    "The major advantage of this method is that it’s very straightforward. If you have used dictionaries or dictionary-like data structures in other languages, such as JavaScript, Kotlin, or Swift, you’re probably very familiar with this approach. Thus, it can be very natural for you to use this approach when you need to access items of a dictionary.\n",
    "\n",
    "However, there is a potential issue, as shown below:"
   ]
  },
  {
   "cell_type": "code",
   "execution_count": 4,
   "metadata": {},
   "outputs": [
    {
     "ename": "KeyError",
     "evalue": "'Zoe'",
     "output_type": "error",
     "traceback": [
      "\u001b[0;31m---------------------------------------------------------------------------\u001b[0m",
      "\u001b[0;31mKeyError\u001b[0m                                  Traceback (most recent call last)",
      "Cell \u001b[0;32mIn[4], line 1\u001b[0m\n\u001b[0;32m----> 1\u001b[0m grades[\u001b[39m\"\u001b[39;49m\u001b[39mZoe\u001b[39;49m\u001b[39m\"\u001b[39;49m]\n",
      "\u001b[0;31mKeyError\u001b[0m: 'Zoe'"
     ]
    }
   ],
   "source": [
    "grades[\"Zoe\"]"
   ]
  },
  {
   "cell_type": "markdown",
   "metadata": {},
   "source": [
    "When you’re trying to access a key that doesn’t exist in the dictionary, you’ll encounter the KeyError exception. When it’s not handled, your program will crash.\n",
    "\n",
    "Best practice: Use subscript notations for dictionaries that you create or those for which you’re sure about the keys."
   ]
  },
  {
   "cell_type": "markdown",
   "metadata": {},
   "source": [
    "##  The get Method"
   ]
  },
  {
   "cell_type": "markdown",
   "metadata": {},
   "source": [
    "Given the aforementioned problem with subscript notations, some people may have tried the following solution:"
   ]
  },
  {
   "cell_type": "code",
   "execution_count": 5,
   "metadata": {},
   "outputs": [],
   "source": [
    "name_to_check = \"some name\"\n",
    "if name_to_check in grades:\n",
    "    grade = grades[name_to_check]\n",
    "else:\n",
    "    grade = \"A default value\""
   ]
  },
  {
   "cell_type": "markdown",
   "metadata": {},
   "source": [
    "This solution can certainly help avoid the KeyError exception, but it’s a little cumbersome. A better solution, in this case, is to use the get method of dictionaries. To use the get method, we specify the name of the key and a default value when the key isn’t in the dictionary.\n",
    "\n",
    "The following code snippet shows you some examples of using get:"
   ]
  },
  {
   "cell_type": "code",
   "execution_count": 6,
   "metadata": {},
   "outputs": [
    {
     "data": {
      "text/plain": [
       "98"
      ]
     },
     "execution_count": 6,
     "metadata": {},
     "output_type": "execute_result"
    }
   ],
   "source": [
    "grades.get(\"Anne\")"
   ]
  },
  {
   "cell_type": "code",
   "execution_count": 7,
   "metadata": {},
   "outputs": [
    {
     "data": {
      "text/plain": [
       "0"
      ]
     },
     "execution_count": 7,
     "metadata": {},
     "output_type": "execute_result"
    }
   ],
   "source": [
    "grades.get(\"Zoe\", 0)"
   ]
  },
  {
   "cell_type": "code",
   "execution_count": 8,
   "metadata": {},
   "outputs": [],
   "source": [
    "grades.get(\"Zoe\")"
   ]
  },
  {
   "cell_type": "markdown",
   "metadata": {},
   "source": [
    "As shown above, the get method does offer the advantage of not raising the KeyError exception when the specified key isn’t in the dictionary. More importantly, it allows you to set a proper default value when the key doesn’t exist. Theoretically, you can use the get method whenever you retrieve values from dictionaries, but I prefer subscript notations whenever possible because I find them to be more readable.\n",
    "\n",
    "However, there are scenarios where the get method can be very handy. One such scenario is when I need to deal with the variable keyword arguments in a function definition. Suppose you’re building a Python package that has the following API function:"
   ]
  },
  {
   "cell_type": "code",
   "execution_count": 9,
   "metadata": {},
   "outputs": [],
   "source": [
    "\n",
    "def calculate_something(arg0, arg1, **kwargs):\n",
    "    kwarg0 = kwargs.get(\"kwarg0\", 0)\n",
    "    kwarg1 = kwargs.get(\"kwarg1\", \"normal\")\n",
    "    kwarg2 = kwargs.get(\"kwarg2\", [])\n",
    "    kwarg3 = kwargs.get(\"kwarg3\", \"text\")\n",
    "    #... and so on"
   ]
  },
  {
   "cell_type": "markdown",
   "metadata": {},
   "source": [
    "As shown above, this function is flexible by supporting many different keyword parameters besides two positional arguments. For clarity, I don’t want to list all of these keyword arguments in my function definition. After all, I know what default values I want to set when these keyword parameters are omitted by the API users.\n",
    "\n",
    "Best practice: Use the get method with dictionaries that you don’t have direct control over, such as those used in a function call to your APIs. You’ll know what default values are appropriate in these cases.\n",
    "\n"
   ]
  },
  {
   "cell_type": "markdown",
   "metadata": {},
   "source": [
    "## The setdefault Method"
   ]
  },
  {
   "cell_type": "markdown",
   "metadata": {},
   "source": [
    "When people talk about alternatives to the get method, some may mention the setdefault method. This method is very similar to the get method because it also takes two parameters: the key (required) and a default value (optional) as the fallback. The fallback value will be returned when the key isn’t in the dictionary, while when the key is in the dictionary, the key’s value will be returned. Observe this feature below:"
   ]
  },
  {
   "cell_type": "code",
   "execution_count": 10,
   "metadata": {},
   "outputs": [
    {
     "data": {
      "text/plain": [
       "98"
      ]
     },
     "execution_count": 10,
     "metadata": {},
     "output_type": "execute_result"
    }
   ],
   "source": [
    "grades.setdefault(\"Anne\")"
   ]
  },
  {
   "cell_type": "code",
   "execution_count": 11,
   "metadata": {},
   "outputs": [
    {
     "data": {
      "text/plain": [
       "0"
      ]
     },
     "execution_count": 11,
     "metadata": {},
     "output_type": "execute_result"
    }
   ],
   "source": [
    "grades.setdefault(\"Danny\", 0)"
   ]
  },
  {
   "cell_type": "code",
   "execution_count": 12,
   "metadata": {},
   "outputs": [],
   "source": [
    "grades.setdefault(\"Ashley\")"
   ]
  },
  {
   "cell_type": "markdown",
   "metadata": {},
   "source": [
    "The code snippet above shows you that the behaviors of the setdefault method are similar to those of the get method. However, what makes setdefault differ from get is that when you call setdefault, an additional operation (dict[key] = default_value) occurs when the key isn’t in the dictionary. Observe this effect below:"
   ]
  },
  {
   "cell_type": "code",
   "execution_count": 13,
   "metadata": {},
   "outputs": [
    {
     "data": {
      "text/plain": [
       "{'Anne': 98, 'John': 95, 'Bella': 97, 'Danny': 0, 'Ashley': None}"
      ]
     },
     "execution_count": 13,
     "metadata": {},
     "output_type": "execute_result"
    }
   ],
   "source": [
    "grades"
   ]
  },
  {
   "cell_type": "markdown",
   "metadata": {},
   "source": [
    "We previously called setdefault with the keys “Anne”, “Danny”, and “Ashley”. Because “Danny” and “Ashley” were not in the dictionary when we called them, the following two operations occurred under the hood:"
   ]
  },
  {
   "cell_type": "code",
   "execution_count": 14,
   "metadata": {},
   "outputs": [],
   "source": [
    "grades[\"Danny\"] = 0\n",
    "grades[\"Ashley\"] = None"
   ]
  },
  {
   "cell_type": "markdown",
   "metadata": {},
   "source": [
    "Typically, I don’t recommend using the setdefault method. Not only is the name confusing — we don’t typically expect things returned by calling a method involving setting a value — but there is also an implicit operation (i.e. setting the default value if the key doesn’t exist) that many people may not know.\n",
    "\n",
    "Best practice: Avoid using the setdefault method. It’s rarely needed."
   ]
  },
  {
   "cell_type": "markdown",
   "metadata": {},
   "source": [
    "##  The defaultdict Alternative"
   ]
  },
  {
   "cell_type": "markdown",
   "metadata": {},
   "source": [
    "In the previous sections, we focused on solutions that are applicable to the dict class. However, besides the dict class, there is another dictionary type called defaultdict that is a subclass of dict. It’s available in the collections module. An example can help us understand this class:"
   ]
  },
  {
   "cell_type": "code",
   "execution_count": 15,
   "metadata": {},
   "outputs": [
    {
     "data": {
      "text/plain": [
       "defaultdict(int,\n",
       "            {'Anne': 98, 'John': 95, 'Bella': 97, 'Danny': 0, 'Ashley': None})"
      ]
     },
     "execution_count": 15,
     "metadata": {},
     "output_type": "execute_result"
    }
   ],
   "source": [
    "from collections import defaultdict\n",
    "grades_default = defaultdict(int, grades)\n",
    "grades_default"
   ]
  },
  {
   "cell_type": "markdown",
   "metadata": {},
   "source": [
    "Unlike the dict class constructor, defaultdict has a parameter named default_factory that is a zero-parameter function called when you’re accessing a key that is not in the dictionary. In our example, int is called to create a grade of zero (because int() evaluates to zero) when you’re accessing a student’s grade when the student isn’t in the dictionary. Observe this feature below:"
   ]
  },
  {
   "cell_type": "code",
   "execution_count": 16,
   "metadata": {},
   "outputs": [
    {
     "data": {
      "text/plain": [
       "0"
      ]
     },
     "execution_count": 16,
     "metadata": {},
     "output_type": "execute_result"
    }
   ],
   "source": [
    "grades_default[\"Lily\"]"
   ]
  },
  {
   "cell_type": "markdown",
   "metadata": {},
   "source": [
    "One thing to note is that defaultdict operates like the setdefault method in the sense that the value created by the default_factory will be set to the key that wasn’t in the dictionary. For instance, after accessing “Lily”’s grade, the dictionary gets updated, as shown below:"
   ]
  },
  {
   "cell_type": "code",
   "execution_count": 17,
   "metadata": {},
   "outputs": [
    {
     "data": {
      "text/plain": [
       "defaultdict(int,\n",
       "            {'Anne': 98,\n",
       "             'John': 95,\n",
       "             'Bella': 97,\n",
       "             'Danny': 0,\n",
       "             'Ashley': None,\n",
       "             'Lily': 0})"
      ]
     },
     "execution_count": 17,
     "metadata": {},
     "output_type": "execute_result"
    }
   ],
   "source": [
    "grades_default"
   ]
  },
  {
   "cell_type": "markdown",
   "metadata": {},
   "source": [
    "Given the similarities between the setdefault method and the defaultdict class, they can have the following similar usage. Suppose that we want to create a dictionary object that uses the students’ initials as the keys, while the names with the same initials go with each key:"
   ]
  },
  {
   "cell_type": "code",
   "execution_count": 18,
   "metadata": {},
   "outputs": [],
   "source": [
    "# Use the setdefault with a dict object\n",
    "students_by_initial0 = {}\n",
    "for name in grades.keys():\n",
    "    group = students_by_initial0.setdefault(name[0], [])\n",
    "    group.append(name)"
   ]
  },
  {
   "cell_type": "markdown",
   "metadata": {},
   "source": [
    "The code snippet above uses the setdefault method with a dict object. Let’s see how we can implement the same functionality with the defaultdict class:"
   ]
  },
  {
   "cell_type": "code",
   "execution_count": 19,
   "metadata": {},
   "outputs": [],
   "source": [
    "# Use the defaultdict class\n",
    "students_by_initial1 = defaultdict(list)\n",
    "for name in grades.keys():\n",
    "    students_by_initial1[name[0]].append(name)"
   ]
  },
  {
   "cell_type": "markdown",
   "metadata": {},
   "source": [
    "As you can imagine, if the same functionality is to be implemented by a regular dict class with an intermediate step of checking the existence of a key, it’ll be more complicated, as shown below:\n",
    "\n"
   ]
  },
  {
   "cell_type": "code",
   "execution_count": 20,
   "metadata": {},
   "outputs": [],
   "source": [
    "students_by_initial2 = {}\n",
    "for name in grades.keys():\n",
    "    if name[0] in students_by_initial2:\n",
    "        students_by_initial2[name[0]].append(name)\n",
    "    else:\n",
    "        students_by_initial2[name[0]] = [name]"
   ]
  },
  {
   "cell_type": "markdown",
   "metadata": {},
   "source": [
    "Best practice: Use the defaultdict class when you have to access the items of the dictionary object iteratively, such as grouping in the example. In addition, you should know the proper default value when a key is missing. Otherwise, you can use the dict type."
   ]
  }
 ],
 "metadata": {
  "kernelspec": {
   "display_name": "Python 3",
   "language": "python",
   "name": "python3"
  },
  "language_info": {
   "codemirror_mode": {
    "name": "ipython",
    "version": 3
   },
   "file_extension": ".py",
   "mimetype": "text/x-python",
   "name": "python",
   "nbconvert_exporter": "python",
   "pygments_lexer": "ipython3",
   "version": "3.11.5"
  },
  "orig_nbformat": 4
 },
 "nbformat": 4,
 "nbformat_minor": 2
}
