{
 "cells": [
  {
   "cell_type": "markdown",
   "metadata": {},
   "source": [
    "Link to Medium blog post: https://towardsdatascience.com/7-advanced-python-dictionary-techniques-you-should-know-416194d82d2c"
   ]
  },
  {
   "cell_type": "markdown",
   "metadata": {},
   "source": [
    "# 7 Advanced Python Dictionary Techniques You Should Know"
   ]
  },
  {
   "cell_type": "markdown",
   "metadata": {},
   "source": [
    "## 1. Merge Two Dictionaries"
   ]
  },
  {
   "cell_type": "markdown",
   "metadata": {},
   "source": [
    "Since Python 3.5, it’s been possible to easily merge two dictionaries, using **kwargs:"
   ]
  },
  {
   "cell_type": "code",
   "execution_count": 1,
   "metadata": {},
   "outputs": [
    {
     "name": "stdout",
     "output_type": "stream",
     "text": [
      "{'a': 1, 'b': 2, 'c': 3, 'd': 4}\n"
     ]
    }
   ],
   "source": [
    "dict1 = {'a': 1, 'b': 2}\n",
    "dict2 = {'c': 3, 'd': 4}\n",
    "\n",
    "dict3 = {**dict1, **dict2}\n",
    "\n",
    "print(dict3)\n",
    "\n",
    "# Returns: {'a': 1, 'b': 2, 'c': 3, 'd': 4}"
   ]
  },
  {
   "cell_type": "markdown",
   "metadata": {},
   "source": [
    "Beginning in Python 3.9, you can use the union operator (|) to combine two dictionaries:"
   ]
  },
  {
   "cell_type": "code",
   "execution_count": 2,
   "metadata": {},
   "outputs": [],
   "source": [
    "dict1 = {'a':1, 'b':2}\n",
    "dict2 = {'c':3, 'd':4}\n",
    "\n",
    "dict3 = dict1 | dict2"
   ]
  },
  {
   "cell_type": "markdown",
   "metadata": {},
   "source": [
    "## 2. Check if a Key Exists in a Dictionary"
   ]
  },
  {
   "cell_type": "markdown",
   "metadata": {},
   "source": [
    "To see if a key exists in a dictionary, you can use the in keyword.\n",
    "\n",
    "For example, let’s see if some keys exist in a dictionary:"
   ]
  },
  {
   "cell_type": "code",
   "execution_count": 3,
   "metadata": {},
   "outputs": [
    {
     "name": "stdout",
     "output_type": "stream",
     "text": [
      "True\n",
      "False\n"
     ]
    }
   ],
   "source": [
    "dict1 = {'a': 1, 'b': 2}\n",
    "\n",
    "print('a' in dict1)\n",
    "print('c' in dict1)\n",
    "\n",
    "# Returns\n",
    "# True\n",
    "# False"
   ]
  },
  {
   "cell_type": "markdown",
   "metadata": {},
   "source": [
    "## 3. Remove an Item from a Dictionary"
   ]
  },
  {
   "cell_type": "markdown",
   "metadata": {},
   "source": [
    "To easily remove a dictionary, you can use the pop function. The pop function returns the value of the key being removed.\n",
    "\n",
    "Pop accepts two arguments (key to drop, default value if key is not found).\n",
    "\n",
    "Let’s try dropping some items:"
   ]
  },
  {
   "cell_type": "code",
   "execution_count": 4,
   "metadata": {},
   "outputs": [
    {
     "name": "stdout",
     "output_type": "stream",
     "text": [
      "1\n",
      "Missing Key\n"
     ]
    },
    {
     "ename": "KeyError",
     "evalue": "'d'",
     "output_type": "error",
     "traceback": [
      "\u001b[0;31m---------------------------------------------------------------------------\u001b[0m",
      "\u001b[0;31mKeyError\u001b[0m                                  Traceback (most recent call last)",
      "Cell \u001b[0;32mIn[4], line 5\u001b[0m\n\u001b[1;32m      3\u001b[0m \u001b[39mprint\u001b[39m(dict1\u001b[39m.\u001b[39mpop(\u001b[39m'\u001b[39m\u001b[39ma\u001b[39m\u001b[39m'\u001b[39m))\n\u001b[1;32m      4\u001b[0m \u001b[39mprint\u001b[39m(dict1\u001b[39m.\u001b[39mpop(\u001b[39m'\u001b[39m\u001b[39mc\u001b[39m\u001b[39m'\u001b[39m, \u001b[39m'\u001b[39m\u001b[39mMissing Key\u001b[39m\u001b[39m'\u001b[39m))\n\u001b[0;32m----> 5\u001b[0m \u001b[39mprint\u001b[39m(dict1\u001b[39m.\u001b[39;49mpop(\u001b[39m'\u001b[39;49m\u001b[39md\u001b[39;49m\u001b[39m'\u001b[39;49m))\n\u001b[1;32m      7\u001b[0m \u001b[39m# Returns:\u001b[39;00m\n\u001b[1;32m      8\u001b[0m \u001b[39m# 1\u001b[39;00m\n\u001b[1;32m      9\u001b[0m \u001b[39m# Missing Key\u001b[39;00m\n\u001b[0;32m   (...)\u001b[0m\n\u001b[1;32m     12\u001b[0m \u001b[39m#     print(dict1.pop('d'))\u001b[39;00m\n\u001b[1;32m     13\u001b[0m \u001b[39m# KeyError: 'd'\u001b[39;00m\n",
      "\u001b[0;31mKeyError\u001b[0m: 'd'"
     ]
    }
   ],
   "source": [
    "dict1 = {'a': 1, 'b': 2}\n",
    "\n",
    "print(dict1.pop('a'))\n",
    "print(dict1.pop('c', 'Missing Key'))\n",
    "print(dict1.pop('d'))\n",
    "\n",
    "# Returns:\n",
    "# 1\n",
    "# Missing Key\n",
    "# Traceback (most recent call last):\n",
    "#   File \"c:/Users/nikpi/Desktop/datagy/Find Files.py\", line 5, in <module>\n",
    "#     print(dict1.pop('d'))\n",
    "# KeyError: 'd'"
   ]
  },
  {
   "cell_type": "markdown",
   "metadata": {},
   "source": [
    "The last print statement returns an error as the key doesn’t exist and no default value is provided."
   ]
  },
  {
   "cell_type": "markdown",
   "metadata": {},
   "source": [
    "## 4. Dictionary Comprehensions"
   ]
  },
  {
   "cell_type": "markdown",
   "metadata": {},
   "source": [
    "Python Dictionary Comprehensions can allow you to easily iterate over both the key and the value.\n",
    "\n",
    "An easy-to-explain example to demonstrate this would be to build a dictionary where the key is a number and the value is the number squared:"
   ]
  },
  {
   "cell_type": "code",
   "execution_count": 5,
   "metadata": {},
   "outputs": [
    {
     "name": "stdout",
     "output_type": "stream",
     "text": [
      "{1: 1, 2: 4, 3: 9, 4: 16, 5: 25, 6: 36, 7: 49, 8: 64, 9: 81, 10: 100}\n"
     ]
    }
   ],
   "source": [
    "dict1 = {i:i**2 for i in range(1,11)}\n",
    "print(dict1)\n",
    "\n",
    "# Returns: {1: 1, 2: 4, 3: 9, 4: 16, 5: 25, 6: 36, 7: 49, 8: 64, 9: 81, 10: 100}"
   ]
  },
  {
   "cell_type": "markdown",
   "metadata": {},
   "source": [
    "## 5. Drop Empty Items from a Dictionary"
   ]
  },
  {
   "cell_type": "markdown",
   "metadata": {},
   "source": [
    "Let’s use a list comprehension to remove all empty items from a dictionary. An item is considered empty when it has a None value."
   ]
  },
  {
   "cell_type": "code",
   "execution_count": 6,
   "metadata": {},
   "outputs": [
    {
     "name": "stdout",
     "output_type": "stream",
     "text": [
      "{'a': 'apple', 'b': 'banana'}\n"
     ]
    }
   ],
   "source": [
    "dict1 = {'a': 'apple', 'b': 'banana', 'c':None}\n",
    "\n",
    "dict1 = {key:value for (key, value) in dict1.items() if value is not None}\n",
    "print(dict1)\n",
    "\n",
    "# Returns: {'a': 'apple', 'b': 'banana'}"
   ]
  },
  {
   "cell_type": "markdown",
   "metadata": {},
   "source": [
    "##  6. Use Get Instead of the Dictionary Accessor"
   ]
  },
  {
   "cell_type": "markdown",
   "metadata": {},
   "source": [
    "To access a Python dictionary item, you can use square bracket notation. This works well — until it doesn’t.\n",
    "\n",
    "If a key doesn’t exist in a dictionary, an AttributeError is thrown.\n",
    "\n",
    "This can disrupt your code.\n",
    "\n",
    "However, using the get method will simply return None:"
   ]
  },
  {
   "cell_type": "code",
   "execution_count": 7,
   "metadata": {},
   "outputs": [
    {
     "name": "stdout",
     "output_type": "stream",
     "text": [
      "None\n"
     ]
    },
    {
     "ename": "KeyError",
     "evalue": "'c'",
     "output_type": "error",
     "traceback": [
      "\u001b[0;31m---------------------------------------------------------------------------\u001b[0m",
      "\u001b[0;31mKeyError\u001b[0m                                  Traceback (most recent call last)",
      "Cell \u001b[0;32mIn[7], line 4\u001b[0m\n\u001b[1;32m      1\u001b[0m dict1 \u001b[39m=\u001b[39m {\u001b[39m'\u001b[39m\u001b[39ma\u001b[39m\u001b[39m'\u001b[39m:\u001b[39m1\u001b[39m, \u001b[39m'\u001b[39m\u001b[39mb\u001b[39m\u001b[39m'\u001b[39m:\u001b[39m2\u001b[39m}\n\u001b[1;32m      3\u001b[0m \u001b[39mprint\u001b[39m(dict1\u001b[39m.\u001b[39mget(\u001b[39m'\u001b[39m\u001b[39mc\u001b[39m\u001b[39m'\u001b[39m))\n\u001b[0;32m----> 4\u001b[0m \u001b[39mprint\u001b[39m(dict1[\u001b[39m'\u001b[39;49m\u001b[39mc\u001b[39;49m\u001b[39m'\u001b[39;49m])\n\u001b[1;32m      6\u001b[0m \u001b[39m# Returns: None\u001b[39;00m\n\u001b[1;32m      7\u001b[0m \u001b[39m# Returns: KeyError\u001b[39;00m\n",
      "\u001b[0;31mKeyError\u001b[0m: 'c'"
     ]
    }
   ],
   "source": [
    "dict1 = {'a':1, 'b':2}\n",
    "\n",
    "print(dict1.get('c'))\n",
    "print(dict1['c'])\n",
    "\n",
    "# Returns: None\n",
    "# Returns: KeyError"
   ]
  },
  {
   "cell_type": "markdown",
   "metadata": {},
   "source": [
    "## 7. Filter a Dictionary Based on Values"
   ]
  },
  {
   "cell_type": "markdown",
   "metadata": {},
   "source": [
    "Say you have a dictionary of people’s heights and you wanted to filter out anyone below a certain height.\n",
    "\n",
    "You could do this with a for loop or (much easier) with a dictionary comprehension.\n",
    "\n",
    "Let’s filter out anyone less than 170cm."
   ]
  },
  {
   "cell_type": "code",
   "execution_count": 8,
   "metadata": {},
   "outputs": [
    {
     "name": "stdout",
     "output_type": "stream",
     "text": [
      "{'John': 175, 'Matt': 170}\n"
     ]
    }
   ],
   "source": [
    "heights = {'John': 175, 'Jane': 150, 'Jim': 155, 'Matt': 170}\n",
    "\n",
    "tall = {key:value for (key, value) in heights.items() if value >= 170}\n",
    "\n",
    "print(tall)\n",
    "# Returns: {'John': 175, 'Matt': 170}"
   ]
  }
 ],
 "metadata": {
  "kernelspec": {
   "display_name": "Python 3",
   "language": "python",
   "name": "python3"
  },
  "language_info": {
   "codemirror_mode": {
    "name": "ipython",
    "version": 3
   },
   "file_extension": ".py",
   "mimetype": "text/x-python",
   "name": "python",
   "nbconvert_exporter": "python",
   "pygments_lexer": "ipython3",
   "version": "3.11.5"
  },
  "orig_nbformat": 4
 },
 "nbformat": 4,
 "nbformat_minor": 2
}
