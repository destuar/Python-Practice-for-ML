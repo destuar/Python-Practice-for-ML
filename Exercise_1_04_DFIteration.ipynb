{
 "cells": [
  {
   "cell_type": "markdown",
   "metadata": {},
   "source": [
    "Link to Medium blog post: \n",
    "    https://towardsdatascience.com/heres-the-most-efficient-way-to-iterate-through-your-pandas-dataframe-4dad88ac92ee"
   ]
  },
  {
   "cell_type": "markdown",
   "metadata": {},
   "source": [
    "# Iterrows():"
   ]
  },
  {
   "cell_type": "code",
   "execution_count": 21,
   "metadata": {},
   "outputs": [
    {
     "name": "stderr",
     "output_type": "stream",
     "text": [
      "100000it [00:04, 22922.38it/s]\n",
      "100000it [00:04, 23896.90it/s]\n",
      "100000it [00:04, 23401.12it/s]\n",
      "100000it [00:04, 23873.47it/s]\n",
      "100000it [00:04, 23436.29it/s]\n",
      "100000it [00:04, 23185.26it/s]\n",
      "100000it [00:04, 23545.78it/s]\n",
      "100000it [00:04, 23437.56it/s]"
     ]
    },
    {
     "name": "stdout",
     "output_type": "stream",
     "text": [
      "4.25 s ± 42.9 ms per loop (mean ± std. dev. of 7 runs, 1 loop each)\n"
     ]
    },
    {
     "name": "stderr",
     "output_type": "stream",
     "text": [
      "\n"
     ]
    }
   ],
   "source": [
    "# let's use iterrows on a practice dataframe with 100000 rows and 4 columns\n",
    "import pandas as pd\n",
    "import numpy as np\n",
    "from tqdm import tqdm\n",
    "\n",
    "df = pd.DataFrame(np.random.randint(0,100,size=(100000, 4)), columns=list('ABCD'))\n",
    "\n",
    "# Iterrows() is a Pandas inbuilt function to iterate through your data frame\n",
    "# It should be completely avoided as its performance is very slow compared to other iteration techniques \n",
    "# Iterrows() makes multiple function calls while iterating and each row of the iteration has properties of a data frame, which makes it slower\n",
    "\n",
    "def loop_with_iterrows(df):\n",
    "    temp = 0\n",
    "    for index, row in tqdm(df.iterrows()):\n",
    "        temp = row['A'] + row['B']\n",
    "        temp = temp **2\n",
    "    return temp\n",
    "\n",
    "import timeit\n",
    "%timeit loop_with_iterrows(df)"
   ]
  },
  {
   "cell_type": "markdown",
   "metadata": {},
   "source": [
    "# Itertuples():"
   ]
  },
  {
   "cell_type": "code",
   "execution_count": 22,
   "metadata": {},
   "outputs": [
    {
     "name": "stderr",
     "output_type": "stream",
     "text": [
      "100000it [00:00, 429120.37it/s]\n",
      "100000it [00:00, 749393.69it/s]\n",
      "100000it [00:00, 712560.82it/s]\n",
      "100000it [00:00, 799577.55it/s]\n",
      "100000it [00:00, 740774.81it/s]\n",
      "100000it [00:00, 502444.24it/s]\n",
      "100000it [00:00, 548718.31it/s]\n",
      "100000it [00:00, 406476.01it/s]"
     ]
    },
    {
     "name": "stdout",
     "output_type": "stream",
     "text": [
      "174 ms ± 42 ms per loop (mean ± std. dev. of 7 runs, 1 loop each)\n"
     ]
    },
    {
     "name": "stderr",
     "output_type": "stream",
     "text": [
      "\n"
     ]
    }
   ],
   "source": [
    "# Itertuples() is a Pandas inbuilt function to iterate through your data frame \n",
    "# Itertuples() make a comparatively less number of function calls than iterrows() and carry much lesser overhead \n",
    "# Itertuples() iterates through the data frame by converting each row of data as a list of tuples\n",
    "\n",
    "def loop_with_tuples(df):\n",
    "    temp = 0\n",
    "    for row in tqdm(df.itertuples()):\n",
    "        temp = row.A + row.B\n",
    "        temp = temp **2\n",
    "    return temp\n",
    "\n",
    "import timeit\n",
    "%timeit loop_with_tuples(df)"
   ]
  },
  {
   "cell_type": "markdown",
   "metadata": {},
   "source": [
    "# Numpy Array Iteration:"
   ]
  },
  {
   "cell_type": "code",
   "execution_count": 23,
   "metadata": {},
   "outputs": [
    {
     "name": "stderr",
     "output_type": "stream",
     "text": [
      "100%|██████████| 100000/100000 [00:00<00:00, 1009325.84it/s]\n",
      "100%|██████████| 100000/100000 [00:00<00:00, 1027698.31it/s]\n",
      "100%|██████████| 100000/100000 [00:00<00:00, 501167.87it/s]\n",
      "100%|██████████| 100000/100000 [00:00<00:00, 540242.02it/s]\n",
      "100%|██████████| 100000/100000 [00:00<00:00, 875182.63it/s]\n",
      "100%|██████████| 100000/100000 [00:00<00:00, 850911.41it/s]\n",
      "100%|██████████| 100000/100000 [00:00<00:00, 890068.20it/s]\n",
      "100%|██████████| 100000/100000 [00:00<00:00, 1018764.41it/s]\n",
      "100%|██████████| 100000/100000 [00:00<00:00, 1122071.70it/s]\n",
      "100%|██████████| 100000/100000 [00:00<00:00, 1106539.29it/s]\n",
      "100%|██████████| 100000/100000 [00:00<00:00, 1081745.01it/s]\n",
      "100%|██████████| 100000/100000 [00:00<00:00, 1110247.47it/s]\n",
      "100%|██████████| 100000/100000 [00:00<00:00, 1119080.89it/s]\n",
      "100%|██████████| 100000/100000 [00:00<00:00, 1110988.56it/s]\n",
      "100%|██████████| 100000/100000 [00:00<00:00, 1094761.24it/s]\n",
      "100%|██████████| 100000/100000 [00:00<00:00, 1120494.97it/s]\n",
      "100%|██████████| 100000/100000 [00:00<00:00, 1090287.68it/s]\n",
      "100%|██████████| 100000/100000 [00:00<00:00, 1064033.75it/s]\n",
      "100%|██████████| 100000/100000 [00:00<00:00, 910581.87it/s]\n",
      "100%|██████████| 100000/100000 [00:00<00:00, 972829.09it/s]\n",
      "100%|██████████| 100000/100000 [00:00<00:00, 961835.29it/s]\n",
      "100%|██████████| 100000/100000 [00:00<00:00, 990217.53it/s]\n",
      "100%|██████████| 100000/100000 [00:00<00:00, 948216.74it/s]\n",
      "100%|██████████| 100000/100000 [00:00<00:00, 975848.45it/s]\n",
      "100%|██████████| 100000/100000 [00:00<00:00, 475384.59it/s]\n",
      "100%|██████████| 100000/100000 [00:00<00:00, 929343.55it/s]\n",
      "100%|██████████| 100000/100000 [00:00<00:00, 962919.50it/s]\n",
      "100%|██████████| 100000/100000 [00:00<00:00, 1038183.78it/s]\n",
      "100%|██████████| 100000/100000 [00:00<00:00, 1106498.43it/s]\n",
      "100%|██████████| 100000/100000 [00:00<00:00, 1092494.27it/s]\n",
      "100%|██████████| 100000/100000 [00:00<00:00, 1047000.26it/s]\n",
      "100%|██████████| 100000/100000 [00:00<00:00, 1099228.45it/s]\n",
      "100%|██████████| 100000/100000 [00:00<00:00, 1146536.04it/s]\n",
      "100%|██████████| 100000/100000 [00:00<00:00, 1006339.91it/s]\n",
      "100%|██████████| 100000/100000 [00:00<00:00, 1117628.69it/s]\n",
      "100%|██████████| 100000/100000 [00:00<00:00, 1135538.37it/s]\n",
      "100%|██████████| 100000/100000 [00:00<00:00, 1075490.14it/s]\n",
      "100%|██████████| 100000/100000 [00:00<00:00, 1032032.52it/s]\n",
      "100%|██████████| 100000/100000 [00:00<00:00, 742369.14it/s]\n",
      "100%|██████████| 100000/100000 [00:00<00:00, 948974.06it/s]\n",
      "100%|██████████| 100000/100000 [00:00<00:00, 972705.01it/s]\n",
      "100%|██████████| 100000/100000 [00:00<00:00, 1067771.87it/s]\n",
      "100%|██████████| 100000/100000 [00:00<00:00, 1081887.31it/s]\n",
      "100%|██████████| 100000/100000 [00:00<00:00, 1078085.91it/s]\n",
      "100%|██████████| 100000/100000 [00:00<00:00, 1111274.08it/s]\n",
      "100%|██████████| 100000/100000 [00:00<00:00, 1077130.74it/s]\n",
      "100%|██████████| 100000/100000 [00:00<00:00, 1114726.67it/s]\n",
      "100%|██████████| 100000/100000 [00:00<00:00, 1119203.33it/s]\n",
      "100%|██████████| 100000/100000 [00:00<00:00, 947993.85it/s]\n",
      "100%|██████████| 100000/100000 [00:00<00:00, 755008.09it/s]\n",
      "100%|██████████| 100000/100000 [00:00<00:00, 1094212.88it/s]\n",
      "100%|██████████| 100000/100000 [00:00<00:00, 1107983.29it/s]\n",
      "100%|██████████| 100000/100000 [00:00<00:00, 1111309.42it/s]\n",
      "100%|██████████| 100000/100000 [00:00<00:00, 1102235.58it/s]\n",
      "100%|██████████| 100000/100000 [00:00<00:00, 1093183.35it/s]\n",
      "100%|██████████| 100000/100000 [00:00<00:00, 1101879.42it/s]\n",
      "100%|██████████| 100000/100000 [00:00<00:00, 1117417.29it/s]\n",
      "100%|██████████| 100000/100000 [00:00<00:00, 1103485.44it/s]\n",
      "100%|██████████| 100000/100000 [00:00<00:00, 1150602.83it/s]\n",
      "100%|██████████| 100000/100000 [00:00<00:00, 1101917.05it/s]\n",
      "100%|██████████| 100000/100000 [00:00<00:00, 917473.61it/s]\n",
      "100%|██████████| 100000/100000 [00:00<00:00, 949218.89it/s]\n",
      "100%|██████████| 100000/100000 [00:00<00:00, 933392.97it/s]\n",
      "100%|██████████| 100000/100000 [00:00<00:00, 1020795.06it/s]\n",
      "100%|██████████| 100000/100000 [00:00<00:00, 860889.23it/s]\n",
      "100%|██████████| 100000/100000 [00:00<00:00, 911660.54it/s]\n",
      "100%|██████████| 100000/100000 [00:00<00:00, 834265.66it/s]\n",
      "100%|██████████| 100000/100000 [00:00<00:00, 1006987.42it/s]\n",
      "100%|██████████| 100000/100000 [00:00<00:00, 462367.72it/s]\n",
      "100%|██████████| 100000/100000 [00:00<00:00, 775591.17it/s]\n",
      "100%|██████████| 100000/100000 [00:00<00:00, 1003674.13it/s]\n",
      "100%|██████████| 100000/100000 [00:00<00:00, 924419.52it/s]\n",
      "100%|██████████| 100000/100000 [00:00<00:00, 1060702.48it/s]\n",
      "100%|██████████| 100000/100000 [00:00<00:00, 1087167.74it/s]\n",
      "100%|██████████| 100000/100000 [00:00<00:00, 1107298.82it/s]\n",
      "100%|██████████| 100000/100000 [00:00<00:00, 1095828.11it/s]\n",
      "100%|██████████| 100000/100000 [00:00<00:00, 1130570.64it/s]\n",
      "100%|██████████| 100000/100000 [00:00<00:00, 1096934.35it/s]\n",
      "100%|██████████| 100000/100000 [00:00<00:00, 1073849.04it/s]\n",
      "100%|██████████| 100000/100000 [00:00<00:00, 1059470.00it/s]\n",
      "100%|██████████| 100000/100000 [00:00<00:00, 1080343.50it/s]"
     ]
    },
    {
     "name": "stdout",
     "output_type": "stream",
     "text": [
      "105 ms ± 10.6 ms per loop (mean ± std. dev. of 7 runs, 10 loops each)\n"
     ]
    },
    {
     "name": "stderr",
     "output_type": "stream",
     "text": [
      "\n"
     ]
    }
   ],
   "source": [
    "# Iteration beats the whole purpose of using Pandas. Vectorization is always the best choice \n",
    "# Pandas come with df.values() function to convert the data frame to a list of list format\n",
    "\n",
    "def loop_with_numpy_arrays(df):\n",
    "    temp = 0\n",
    "    for row in tqdm(df.values):\n",
    "        temp = row[0] + row[1]\n",
    "        temp = temp **2\n",
    "    return temp\n",
    "\n",
    "import timeit\n",
    "%timeit loop_with_numpy_arrays(df)"
   ]
  },
  {
   "cell_type": "markdown",
   "metadata": {},
   "source": [
    "# Dictionary Iteration:"
   ]
  },
  {
   "cell_type": "code",
   "execution_count": 24,
   "metadata": {},
   "outputs": [
    {
     "name": "stderr",
     "output_type": "stream",
     "text": [
      "100%|██████████| 100000/100000 [00:00<00:00, 2239876.96it/s]\n",
      "100%|██████████| 100000/100000 [00:00<00:00, 1805601.52it/s]\n",
      "100%|██████████| 100000/100000 [00:00<00:00, 2216710.27it/s]\n",
      "100%|██████████| 100000/100000 [00:00<00:00, 2071210.09it/s]\n",
      "100%|██████████| 100000/100000 [00:00<00:00, 2098190.60it/s]\n",
      "100%|██████████| 100000/100000 [00:00<00:00, 2249161.59it/s]\n",
      "100%|██████████| 100000/100000 [00:00<00:00, 2204975.29it/s]\n",
      "100%|██████████| 100000/100000 [00:00<00:00, 2245729.46it/s]"
     ]
    },
    {
     "name": "stdout",
     "output_type": "stream",
     "text": [
      "169 ms ± 12.9 ms per loop (mean ± std. dev. of 7 runs, 1 loop each)\n"
     ]
    },
    {
     "name": "stderr",
     "output_type": "stream",
     "text": [
      "\n"
     ]
    }
   ],
   "source": [
    "# Now, let's come to the most efficient way to iterate through the data frame \n",
    "# Pandas come with df.to_dict('records') function to convert the data frame to dictionary key-value format\n",
    "\n",
    "def loop_with_dict(df):\n",
    "    temp = 0\n",
    "    for row in tqdm(df.to_dict('records')):\n",
    "        temp = row['A'] + row['B']\n",
    "        temp = temp **2\n",
    "    return temp\n",
    "\n",
    "import timeit\n",
    "%timeit loop_with_dict(df)"
   ]
  },
  {
   "cell_type": "markdown",
   "metadata": {},
   "source": [
    "# Conclusion:"
   ]
  },
  {
   "cell_type": "markdown",
   "metadata": {},
   "source": [
    "Usage of itertools() is never recommended to iterate through the data frame, as it carries a lot of overhead and makes a lot of function calls. Itertuples convert the data frame to a list of tuples, then iterates through it, which makes it comparatively faster.\n",
    "\n",
    "Vectorization is always the first and best choice. You can convert the data frame to NumPy array or into dictionary format to speed up the iteration workflow. Iterating through the key-value pair of dictionaries comes out to be the fastest way with around 280x times speed up for 20 million records."
   ]
  }
 ],
 "metadata": {
  "kernelspec": {
   "display_name": "Python 3",
   "language": "python",
   "name": "python3"
  },
  "language_info": {
   "codemirror_mode": {
    "name": "ipython",
    "version": 3
   },
   "file_extension": ".py",
   "mimetype": "text/x-python",
   "name": "python",
   "nbconvert_exporter": "python",
   "pygments_lexer": "ipython3",
   "version": "3.11.5"
  }
 },
 "nbformat": 4,
 "nbformat_minor": 2
}
