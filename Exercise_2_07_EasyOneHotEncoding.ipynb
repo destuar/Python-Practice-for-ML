{
 "cells": [
  {
   "cell_type": "markdown",
   "metadata": {},
   "source": [
    "Link to Medium blog post: https://towardsdatascience.com/learning-one-hot-encoding-in-python-the-easy-way-665010457ad9"
   ]
  },
  {
   "cell_type": "markdown",
   "metadata": {},
   "source": [
    "# Learning One-Hot Encoding in Python the Easy Way"
   ]
  },
  {
   "cell_type": "markdown",
   "metadata": {},
   "source": [
    "## Creating the dataset from scratch"
   ]
  },
  {
   "cell_type": "code",
   "execution_count": 1,
   "metadata": {},
   "outputs": [],
   "source": [
    "import pandas as pd\n",
    "\n",
    "# Creating a list with some values \n",
    "studentID = [1000, 1001, 1002, 1003, 1004, 1005, 1006]\n",
    "color = ['Red', 'Orange', \"Yellow\", 'Green', 'Yellow', 'Purple', 'Blue']\n",
    "DaysOfTheWeek = ['Monday', 'Tuesday', 'Wednesday', 'Thursday', 'Friday', 'Saturday', 'Sunday']\n",
    "Attitude = ['Best', 'Decent', 'Better', 'Excellent', 'Excellent', 'Good', 'Best']"
   ]
  },
  {
   "cell_type": "markdown",
   "metadata": {},
   "source": [
    "Now that we have the list let’s convert this into a data frame. To do this we need to zip all the list values and then store it."
   ]
  },
  {
   "cell_type": "code",
   "execution_count": 2,
   "metadata": {},
   "outputs": [
    {
     "name": "stdout",
     "output_type": "stream",
     "text": [
      "   Student ID Favourite Color Favourite Day   Attitude\n",
      "0        1000             Red        Monday       Best\n",
      "1        1001          Orange       Tuesday     Decent\n",
      "2        1002          Yellow     Wednesday     Better\n",
      "3        1003           Green      Thursday  Excellent\n",
      "4        1004          Yellow        Friday  Excellent\n",
      "5        1005          Purple      Saturday       Good\n",
      "6        1006            Blue        Sunday       Best\n"
     ]
    }
   ],
   "source": [
    "# Converting the list into a data frame and simultaneously renaming the columns.\n",
    "df = pd.DataFrame(list(zip(studentID, color, DaysOfTheWeek, Attitude)), columns =['Student ID', 'Favourite Color', 'Favourite Day', 'Attitude'])\n",
    "print(df)"
   ]
  },
  {
   "cell_type": "markdown",
   "metadata": {},
   "source": [
    "## Converting the object type data into the categorical type"
   ]
  },
  {
   "cell_type": "markdown",
   "metadata": {},
   "source": [
    "This is because in most cases you might get a categorical type of data. But in this, all the three as seen above is of an object type. If this is the case with you then you need to manually convert them to categorical type."
   ]
  },
  {
   "cell_type": "code",
   "execution_count": 3,
   "metadata": {},
   "outputs": [
    {
     "name": "stdout",
     "output_type": "stream",
     "text": [
      "Student ID            int64\n",
      "Favourite Color    category\n",
      "Favourite Day      category\n",
      "Attitude           category\n",
      "dtype: object\n"
     ]
    }
   ],
   "source": [
    "# Converting the object type data into categorical data column\n",
    "for col in ['Favourite Color','Favourite Day', 'Attitude']:\n",
    "    df[col] = df[col].astype('category')\n",
    "print(df.dtypes)"
   ]
  },
  {
   "cell_type": "markdown",
   "metadata": {},
   "source": [
    "## Assigning the binary codes to the categorical values"
   ]
  },
  {
   "cell_type": "markdown",
   "metadata": {},
   "source": [
    "We will be transforming only the Favourite Color and Favourite Day columns to its binary value columns. Rather than manually doing this we can use the pandas get_dummies method."
   ]
  },
  {
   "cell_type": "code",
   "execution_count": 4,
   "metadata": {},
   "outputs": [
    {
     "name": "stdout",
     "output_type": "stream",
     "text": [
      "   Student ID   Attitude  Favourite Color_Blue  Favourite Color_Green  \\\n",
      "0        1000       Best                 False                  False   \n",
      "1        1001     Decent                 False                  False   \n",
      "2        1002     Better                 False                  False   \n",
      "3        1003  Excellent                 False                   True   \n",
      "4        1004  Excellent                 False                  False   \n",
      "5        1005       Good                 False                  False   \n",
      "6        1006       Best                  True                  False   \n",
      "\n",
      "   Favourite Color_Orange  Favourite Color_Purple  Favourite Color_Red  \\\n",
      "0                   False                   False                 True   \n",
      "1                    True                   False                False   \n",
      "2                   False                   False                False   \n",
      "3                   False                   False                False   \n",
      "4                   False                   False                False   \n",
      "5                   False                    True                False   \n",
      "6                   False                   False                False   \n",
      "\n",
      "   Favourite Color_Yellow  Favourite Day_Friday  Favourite Day_Monday  \\\n",
      "0                   False                 False                  True   \n",
      "1                   False                 False                 False   \n",
      "2                    True                 False                 False   \n",
      "3                   False                 False                 False   \n",
      "4                    True                  True                 False   \n",
      "5                   False                 False                 False   \n",
      "6                   False                 False                 False   \n",
      "\n",
      "   Favourite Day_Saturday  Favourite Day_Sunday  Favourite Day_Thursday  \\\n",
      "0                   False                 False                   False   \n",
      "1                   False                 False                   False   \n",
      "2                   False                 False                   False   \n",
      "3                   False                 False                    True   \n",
      "4                   False                 False                   False   \n",
      "5                    True                 False                   False   \n",
      "6                   False                  True                   False   \n",
      "\n",
      "   Favourite Day_Tuesday  Favourite Day_Wednesday  \n",
      "0                  False                    False  \n",
      "1                   True                    False  \n",
      "2                  False                     True  \n",
      "3                  False                    False  \n",
      "4                  False                    False  \n",
      "5                  False                    False  \n",
      "6                  False                    False  \n"
     ]
    }
   ],
   "source": [
    "# Assigning the binary values for Favourite Day and Favourite Color columns\n",
    "df = pd.get_dummies(data=df,columns=['Favourite Color','Favourite Day'])\n",
    "print(df)"
   ]
  },
  {
   "cell_type": "markdown",
   "metadata": {},
   "source": [
    "By doing so you will obviously increase the dimension of your data set, but your learning algorithm will perform a lot more better."
   ]
  },
  {
   "cell_type": "markdown",
   "metadata": {},
   "source": [
    "## Assigning orders to the categorical column called “Attitude”"
   ]
  },
  {
   "cell_type": "markdown",
   "metadata": {},
   "source": [
    "There are two ways you can do this:\n",
    "\n",
    "- Manually assigning values using a dictionary.\n",
    "- Using LabelEncoder method\n",
    "\n",
    "Option 1 is just of no use because what if you have more than 1000 unique values then you might use a looping statement and make your life complicated. It’s 2020 think smart and use the sklearn library to do this."
   ]
  },
  {
   "cell_type": "code",
   "execution_count": 5,
   "metadata": {},
   "outputs": [
    {
     "name": "stdout",
     "output_type": "stream",
     "text": [
      "   Student ID  Attitude  Favourite Color_Blue  Favourite Color_Green  \\\n",
      "0        1000         0                 False                  False   \n",
      "1        1001         2                 False                  False   \n",
      "2        1002         1                 False                  False   \n",
      "3        1003         3                 False                   True   \n",
      "4        1004         3                 False                  False   \n",
      "5        1005         4                 False                  False   \n",
      "6        1006         0                  True                  False   \n",
      "\n",
      "   Favourite Color_Orange  Favourite Color_Purple  Favourite Color_Red  \\\n",
      "0                   False                   False                 True   \n",
      "1                    True                   False                False   \n",
      "2                   False                   False                False   \n",
      "3                   False                   False                False   \n",
      "4                   False                   False                False   \n",
      "5                   False                    True                False   \n",
      "6                   False                   False                False   \n",
      "\n",
      "   Favourite Color_Yellow  Favourite Day_Friday  Favourite Day_Monday  \\\n",
      "0                   False                 False                  True   \n",
      "1                   False                 False                 False   \n",
      "2                    True                 False                 False   \n",
      "3                   False                 False                 False   \n",
      "4                    True                  True                 False   \n",
      "5                   False                 False                 False   \n",
      "6                   False                 False                 False   \n",
      "\n",
      "   Favourite Day_Saturday  Favourite Day_Sunday  Favourite Day_Thursday  \\\n",
      "0                   False                 False                   False   \n",
      "1                   False                 False                   False   \n",
      "2                   False                 False                   False   \n",
      "3                   False                 False                    True   \n",
      "4                   False                 False                   False   \n",
      "5                    True                 False                   False   \n",
      "6                   False                  True                   False   \n",
      "\n",
      "   Favourite Day_Tuesday  Favourite Day_Wednesday  \n",
      "0                  False                    False  \n",
      "1                   True                    False  \n",
      "2                  False                     True  \n",
      "3                  False                    False  \n",
      "4                  False                    False  \n",
      "5                  False                    False  \n",
      "6                  False                    False  \n"
     ]
    }
   ],
   "source": [
    "# Assigning order to the categorical column \n",
    "from sklearn.preprocessing import LabelEncoder\n",
    "# Initializing an object of class LabelEncoder\n",
    "labelencoder = LabelEncoder() \n",
    "df['Attitude'] = labelencoder.fit_transform(df['Attitude'])\n",
    "print(df)"
   ]
  }
 ],
 "metadata": {
  "kernelspec": {
   "display_name": "Python 3",
   "language": "python",
   "name": "python3"
  },
  "language_info": {
   "codemirror_mode": {
    "name": "ipython",
    "version": 3
   },
   "file_extension": ".py",
   "mimetype": "text/x-python",
   "name": "python",
   "nbconvert_exporter": "python",
   "pygments_lexer": "ipython3",
   "version": "3.11.5"
  },
  "orig_nbformat": 4
 },
 "nbformat": 4,
 "nbformat_minor": 2
}
