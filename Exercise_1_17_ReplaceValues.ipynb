{
 "cells": [
  {
   "cell_type": "markdown",
   "metadata": {},
   "source": [
    "Link to Medium blog post: https://towardsdatascience.com/an-easy-way-to-replace-values-in-a-pandas-dataframe-2826bd34e59a"
   ]
  },
  {
   "cell_type": "markdown",
   "metadata": {},
   "source": [
    "# An Easy Way to Replace Values in a Pandas DataFrame"
   ]
  },
  {
   "cell_type": "markdown",
   "metadata": {},
   "source": [
    "In this piece, let’s take a look specifically at replacing values and sub-strings within columns in a DataFrame. This can come in handy both when you want to replace each value in a column or when you only want to edit part of a value."
   ]
  },
  {
   "cell_type": "code",
   "execution_count": 1,
   "metadata": {},
   "outputs": [],
   "source": [
    "import pandas as pd\n",
    "df = pd.read_csv('WordsByCharacter.csv')"
   ]
  },
  {
   "cell_type": "markdown",
   "metadata": {},
   "source": [
    "## Using “replace” to Edit a String in a Pandas DataFrame Series (Column)"
   ]
  },
  {
   "cell_type": "markdown",
   "metadata": {},
   "source": [
    "The replace method in Pandas allows you to search the values in a specified Series in your DataFrame for a value or sub-string that you can then change. First, let’s take a quick look at how we can make a simple change to the “Film” column in the table by changing “Of The” to “of the”."
   ]
  },
  {
   "cell_type": "code",
   "execution_count": 2,
   "metadata": {},
   "outputs": [
    {
     "data": {
      "text/plain": [
       "0      The Fellowship of the Ring\n",
       "1      The Fellowship of the Ring\n",
       "2      The Fellowship of the Ring\n",
       "3      The Fellowship of the Ring\n",
       "4      The Fellowship of the Ring\n",
       "                  ...            \n",
       "726        The Return of the King\n",
       "727        The Return of the King\n",
       "728        The Return of the King\n",
       "729        The Return of the King\n",
       "730        The Return of the King\n",
       "Name: Film, Length: 731, dtype: object"
      ]
     },
     "execution_count": 2,
     "metadata": {},
     "output_type": "execute_result"
    }
   ],
   "source": [
    "# change \"Of The\" to \"of the\" - simple regex\n",
    "df[\"Film\"].replace(\"Of The\", \"of the\")  # won't work if you do this\n",
    "df[\"Film\"].replace(\"Of The\", \"of the\", regex=True)"
   ]
  },
  {
   "cell_type": "markdown",
   "metadata": {},
   "source": [
    "Above, all we did was pass in the sub-string we’re looking for as the first argument to the replace method, and then pass in the value we wanted to replace it with as the second argument. You’ll see that we also had to pass regex=True for the operation to work. Otherwise, the replace method would only change column values that were “Of The”, as it would only match entire values.\n",
    "\n",
    "You could accomplish the same thing we did above by matching the exact string and providing the whole value that you want to change like below."
   ]
  },
  {
   "cell_type": "code",
   "execution_count": 3,
   "metadata": {},
   "outputs": [
    {
     "data": {
      "text/plain": [
       "0      The Fellowship of the Ring\n",
       "1      The Fellowship of the Ring\n",
       "2      The Fellowship of the Ring\n",
       "3      The Fellowship of the Ring\n",
       "4      The Fellowship of the Ring\n",
       "                  ...            \n",
       "726        The Return Of The King\n",
       "727        The Return Of The King\n",
       "728        The Return Of The King\n",
       "729        The Return Of The King\n",
       "730        The Return Of The King\n",
       "Name: Film, Length: 731, dtype: object"
      ]
     },
     "execution_count": 3,
     "metadata": {},
     "output_type": "execute_result"
    }
   ],
   "source": [
    "df[\"Film\"].replace(\"The Fellowship Of The Ring\", \"The Fellowship of the Ring\")"
   ]
  },
  {
   "cell_type": "markdown",
   "metadata": {},
   "source": [
    "The problem with this method is that you’ll have to match values on a case-by-case basis. That is, you’ll need to pass each value you want to change, as well as what value you want it to be changed to. For some occasions, it may be easier to use just find and replace everything that matches a regex you define.\n",
    "\n",
    "However, in those cases that you want to change different values to different replacement values, you won’t have to make multiple calls to the replace method. Instead, you can simply pass a dictionary where the keys are column values you want to search for and values are what you want to replace the original values with. A simple example can be seen below.\n",
    "\n"
   ]
  },
  {
   "cell_type": "code",
   "execution_count": 4,
   "metadata": {},
   "outputs": [
    {
     "data": {
      "text/plain": [
       "0      The Fellowship of the Ring\n",
       "1      The Fellowship of the Ring\n",
       "2      The Fellowship of the Ring\n",
       "3      The Fellowship of the Ring\n",
       "4      The Fellowship of the Ring\n",
       "                  ...            \n",
       "726        The Return of the King\n",
       "727        The Return of the King\n",
       "728        The Return of the King\n",
       "729        The Return of the King\n",
       "730        The Return of the King\n",
       "Name: Film, Length: 731, dtype: object"
      ]
     },
     "execution_count": 4,
     "metadata": {},
     "output_type": "execute_result"
    }
   ],
   "source": [
    "# you can do multiple replacements in within one call of the replace method by creating a mapping dictionary\n",
    "# very scalable woo\n",
    "replacement_mapping_dict = {\n",
    "    \"The Fellowship Of The Ring\": \"The Fellowship of the Ring\",\n",
    "    \"The Return Of The King\": \"The Return of the King\"\n",
    "}\n",
    "df[\"Film\"].replace(replacement_mapping_dict)"
   ]
  },
  {
   "cell_type": "markdown",
   "metadata": {},
   "source": [
    "Before, we simply passed regex=True so that we could match on sub-strings. Let’s take this a step further and actually write some regex to match on. You’ll see in the “Chapter” column, the chapter names are preceded by the chapter number and a colon. Let’s do a little bit of data cleaning and remove these using regex in the replace method."
   ]
  },
  {
   "cell_type": "code",
   "execution_count": 5,
   "metadata": {},
   "outputs": [
    {
     "data": {
      "text/plain": [
       "0                Prologue\n",
       "1                Prologue\n",
       "2                Prologue\n",
       "3                Prologue\n",
       "4      Concerning Hobbits\n",
       "              ...        \n",
       "726       The Grey Havens\n",
       "727       The Grey Havens\n",
       "728       The Grey Havens\n",
       "729       The Grey Havens\n",
       "730       The Grey Havens\n",
       "Name: Chapter, Length: 731, dtype: object"
      ]
     },
     "execution_count": 5,
     "metadata": {},
     "output_type": "execute_result"
    }
   ],
   "source": [
    "# remove number number colon from \"Chapter\" - bit more complex regex example\n",
    "# regex is just <= 3 repetitions of any numeric character (0-9) immediately followed by a colon and a space\n",
    "df[\"Chapter\"].replace(r\"\\d{,3}: \", \"\", regex=True)"
   ]
  },
  {
   "cell_type": "markdown",
   "metadata": {},
   "source": [
    "All we did is pass r\"\\d{,3}: \" to match three repetitions or less of a numeric character followed by a colon and a space (this would catch “01: ”, “02: ”, …, “100: ”, and so on). Whenever this is found inside a column value, it would be removed from the string, as the second argument we passed was a blank string.\n",
    "\n",
    "Alternatively, if you didn’t want to pass regex=True every time you called the replace method, you could instead accomplish the same result from above as follows:"
   ]
  },
  {
   "cell_type": "code",
   "execution_count": 6,
   "metadata": {},
   "outputs": [
    {
     "data": {
      "text/plain": [
       "0                Prologue\n",
       "1                Prologue\n",
       "2                Prologue\n",
       "3                Prologue\n",
       "4      Concerning Hobbits\n",
       "              ...        \n",
       "726           Grey Havens\n",
       "727           Grey Havens\n",
       "728           Grey Havens\n",
       "729           Grey Havens\n",
       "730           Grey Havens\n",
       "Name: Chapter, Length: 731, dtype: object"
      ]
     },
     "execution_count": 6,
     "metadata": {},
     "output_type": "execute_result"
    }
   ],
   "source": [
    "# alternate way of doing the same thing (instead of having to pass regex=True at the end)\n",
    "# if you had multiple things you want to replace you can put them all in a list\n",
    "regex_list = [r\"\\d{,3}: \", r\"The \"]\n",
    "df[\"Chapter\"].replace(regex=regex_list, value=\"\")"
   ]
  },
  {
   "cell_type": "markdown",
   "metadata": {},
   "source": [
    "The result is the same as before, with a few differences that make this method a bit more clear. First, if you had multiple regex that you wanted to match on, you can define them in a list and pass it as a keyword argument in the replace method. Then, you need to explicitly pass another keyword argument value to define what you want the replacement value to be. Someone (including your future self) looking at your code will likely have a very easy time understanding what it does and expanding on it."
   ]
  }
 ],
 "metadata": {
  "kernelspec": {
   "display_name": "Python 3",
   "language": "python",
   "name": "python3"
  },
  "language_info": {
   "codemirror_mode": {
    "name": "ipython",
    "version": 3
   },
   "file_extension": ".py",
   "mimetype": "text/x-python",
   "name": "python",
   "nbconvert_exporter": "python",
   "pygments_lexer": "ipython3",
   "version": "3.11.5"
  },
  "orig_nbformat": 4
 },
 "nbformat": 4,
 "nbformat_minor": 2
}
