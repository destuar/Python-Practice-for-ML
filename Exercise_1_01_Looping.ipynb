{
 "cells": [
  {
   "cell_type": "markdown",
   "metadata": {},
   "source": [
    "# Looping through Pandas DataFrame"
   ]
  },
  {
   "cell_type": "code",
   "execution_count": 7,
   "metadata": {},
   "outputs": [],
   "source": [
    "# First let’s generate a DataFrame large enough with random integers\n",
    "import timeit\n",
    "import pandas as pd\n",
    "import numpy as np\n",
    "df = pd.DataFrame(np.random.randint(0, 10, size=(100000, 4)), columns=list('ABCD'))"
   ]
  },
  {
   "cell_type": "code",
   "execution_count": 8,
   "metadata": {},
   "outputs": [
    {
     "name": "stdout",
     "output_type": "stream",
     "text": [
      "(100000, 4)\n"
     ]
    }
   ],
   "source": [
    "# Find the shape of the DataFrame\n",
    "print(df.shape)"
   ]
  },
  {
   "cell_type": "code",
   "execution_count": 10,
   "metadata": {},
   "outputs": [
    {
     "data": {
      "text/html": [
       "<div>\n",
       "<style scoped>\n",
       "    .dataframe tbody tr th:only-of-type {\n",
       "        vertical-align: middle;\n",
       "    }\n",
       "\n",
       "    .dataframe tbody tr th {\n",
       "        vertical-align: top;\n",
       "    }\n",
       "\n",
       "    .dataframe thead th {\n",
       "        text-align: right;\n",
       "    }\n",
       "</style>\n",
       "<table border=\"1\" class=\"dataframe\">\n",
       "  <thead>\n",
       "    <tr style=\"text-align: right;\">\n",
       "      <th></th>\n",
       "      <th>A</th>\n",
       "      <th>B</th>\n",
       "      <th>C</th>\n",
       "      <th>D</th>\n",
       "    </tr>\n",
       "  </thead>\n",
       "  <tbody>\n",
       "    <tr>\n",
       "      <th>0</th>\n",
       "      <td>9</td>\n",
       "      <td>6</td>\n",
       "      <td>3</td>\n",
       "      <td>3</td>\n",
       "    </tr>\n",
       "    <tr>\n",
       "      <th>1</th>\n",
       "      <td>9</td>\n",
       "      <td>3</td>\n",
       "      <td>1</td>\n",
       "      <td>0</td>\n",
       "    </tr>\n",
       "    <tr>\n",
       "      <th>2</th>\n",
       "      <td>3</td>\n",
       "      <td>9</td>\n",
       "      <td>6</td>\n",
       "      <td>0</td>\n",
       "    </tr>\n",
       "    <tr>\n",
       "      <th>3</th>\n",
       "      <td>6</td>\n",
       "      <td>4</td>\n",
       "      <td>0</td>\n",
       "      <td>3</td>\n",
       "    </tr>\n",
       "    <tr>\n",
       "      <th>4</th>\n",
       "      <td>0</td>\n",
       "      <td>3</td>\n",
       "      <td>1</td>\n",
       "      <td>2</td>\n",
       "    </tr>\n",
       "  </tbody>\n",
       "</table>\n",
       "</div>"
      ],
      "text/plain": [
       "   A  B  C  D\n",
       "0  9  6  3  3\n",
       "1  9  3  1  0\n",
       "2  3  9  6  0\n",
       "3  6  4  0  3\n",
       "4  0  3  1  2"
      ]
     },
     "execution_count": 10,
     "metadata": {},
     "output_type": "execute_result"
    }
   ],
   "source": [
    "# Show the first 5 rows of the DataFrame\n",
    "df.head()"
   ]
  },
  {
   "cell_type": "markdown",
   "metadata": {},
   "source": [
    "## Standard python for loop with iloc"
   ]
  },
  {
   "cell_type": "code",
   "execution_count": 11,
   "metadata": {},
   "outputs": [],
   "source": [
    "# Loop through the DataFrame using .iloc \n",
    "def loop_with_for(df):\n",
    "    temp = 0\n",
    "    for index in range(len(df)):\n",
    "        temp += df['A'].iloc[index] + df['B'].iloc[index]\n",
    "    return temp"
   ]
  },
  {
   "cell_type": "code",
   "execution_count": 12,
   "metadata": {},
   "outputs": [
    {
     "name": "stdout",
     "output_type": "stream",
     "text": [
      "1.43 s ± 60 ms per loop (mean ± std. dev. of 7 runs, 1 loop each)\n"
     ]
    }
   ],
   "source": [
    "# Check performance using timeit\n",
    "%timeit loop_with_for(df)"
   ]
  },
  {
   "cell_type": "code",
   "execution_count": 13,
   "metadata": {},
   "outputs": [
    {
     "name": "stdout",
     "output_type": "stream",
     "text": [
      " "
     ]
    },
    {
     "name": "stdout",
     "output_type": "stream",
     "text": [
      "         12000009 function calls (11800007 primitive calls) in 6.100 seconds\n",
      "\n",
      "   Ordered by: internal time\n",
      "   List reduced from 36 to 4 due to restriction <4>\n",
      "\n",
      "   ncalls  tottime  percall  cumtime  percall filename:lineno(function)\n",
      "   200000    0.688    0.000    1.830    0.000 frame.py:3856(__getitem__)\n",
      "   200000    0.676    0.000    3.238    0.000 indexing.py:1681(_getitem_axis)\n",
      "  2800000    0.643    0.000    1.357    0.000 {built-in method builtins.isinstance}\n",
      "   400000    0.423    0.000    0.639    0.000 indexing.py:2678(check_dict_or_set_indexers)"
     ]
    }
   ],
   "source": [
    "# Using Jupyter’s prune function we get a detailed analysis on number of function calls and time consumed on each step\n",
    "%prun -l 4 loop_with_for(df)"
   ]
  },
  {
   "cell_type": "markdown",
   "metadata": {},
   "source": [
    "## Using pandas iterrows function"
   ]
  },
  {
   "cell_type": "code",
   "execution_count": 14,
   "metadata": {},
   "outputs": [],
   "source": [
    "# The pandas iterrows function returns a pandas Series for each row, with the down side of not preserving dtypes across rows\n",
    "def loop_with_iterrows(df):\n",
    "    temp = 0\n",
    "    for _, row in df.iterrows():\n",
    "         temp += row.A + row.B\n",
    "    return temp"
   ]
  },
  {
   "cell_type": "code",
   "execution_count": 15,
   "metadata": {},
   "outputs": [
    {
     "name": "stdout",
     "output_type": "stream",
     "text": [
      "3.99 s ± 224 ms per loop (mean ± std. dev. of 7 runs, 1 loop each)\n"
     ]
    }
   ],
   "source": [
    "# Check performance using timeit\n",
    "%timeit loop_with_iterrows(df)"
   ]
  },
  {
   "cell_type": "code",
   "execution_count": 27,
   "metadata": {},
   "outputs": [
    {
     "name": "stdout",
     "output_type": "stream",
     "text": [
      " "
     ]
    },
    {
     "name": "stdout",
     "output_type": "stream",
     "text": [
      "         16600016 function calls (16200016 primitive calls) in 12.567 seconds\n",
      "\n",
      "   Ordered by: internal time\n",
      "   List reduced from 86 to 4 due to restriction <4>\n",
      "\n",
      "   ncalls  tottime  percall  cumtime  percall filename:lineno(function)\n",
      "   100000    1.036    0.000    7.119    0.000 series.py:371(__init__)\n",
      "  3700000    0.670    0.000    0.799    0.000 {built-in method builtins.isinstance}\n",
      "   100000    0.664    0.000    1.381    0.000 construction.py:518(sanitize_array)\n",
      "   200000    0.558    0.000    2.273    0.000 series.py:1016(__getitem__)"
     ]
    }
   ],
   "source": [
    "# Using Jupyter’s prune function we get a detailed analysis on number of function calls and time consumed on each step\n",
    "%prun -l 4 loop_with_iterrows(df)"
   ]
  },
  {
   "cell_type": "markdown",
   "metadata": {},
   "source": [
    "## Using pandas itertuples function"
   ]
  },
  {
   "cell_type": "code",
   "execution_count": 16,
   "metadata": {},
   "outputs": [],
   "source": [
    "# The pandas itertuples function is similar to iterrows, except it returns a namedtuple for each row, and preserves dtypes across rows\n",
    "def loop_with_itertuples(df):\n",
    "    temp = 0\n",
    "    for row_tuple in df.itertuples():\n",
    "        temp += row_tuple.A + row_tuple.B\n",
    "    return temp"
   ]
  },
  {
   "cell_type": "code",
   "execution_count": 19,
   "metadata": {},
   "outputs": [
    {
     "name": "stdout",
     "output_type": "stream",
     "text": [
      "67 ms ± 2.65 ms per loop (mean ± std. dev. of 7 runs, 10 loops each)\n"
     ]
    }
   ],
   "source": [
    "# Check performance using timeit\n",
    "%timeit loop_with_itertuples(df)"
   ]
  },
  {
   "cell_type": "code",
   "execution_count": 20,
   "metadata": {},
   "outputs": [
    {
     "name": "stdout",
     "output_type": "stream",
     "text": [
      " "
     ]
    },
    {
     "name": "stdout",
     "output_type": "stream",
     "text": [
      "         400814 function calls (400805 primitive calls) in 0.258 seconds\n",
      "\n",
      "   Ordered by: internal time\n",
      "   List reduced from 97 to 4 due to restriction <4>\n",
      "\n",
      "   ncalls  tottime  percall  cumtime  percall filename:lineno(function)\n",
      "        1    0.114    0.114    0.258    0.258 1846764153.py:2(loop_with_itertuples)\n",
      "   100000    0.053    0.000    0.090    0.000 __init__.py:442(_make)\n",
      "   100004    0.025    0.000    0.025    0.000 {built-in method __new__ of type object at 0x107d8e2f0}\n",
      "   100001    0.016    0.000    0.016    0.000 range.py:464(__iter__)"
     ]
    }
   ],
   "source": [
    "# Using Jupyter’s prune function we get a detailed analysis on number of function calls and time consumed on each step\n",
    "%prun -l 4 loop_with_itertuples(df)"
   ]
  },
  {
   "cell_type": "markdown",
   "metadata": {},
   "source": [
    "## Using python zip"
   ]
  },
  {
   "cell_type": "code",
   "execution_count": 21,
   "metadata": {},
   "outputs": [],
   "source": [
    "# Since a column of a Pandas DataFrame is an iterable, we can utilize zip to produce a tuple for each row just like itertuples, without all the pandas overhead\n",
    "def loop_with_zip(df):\n",
    "    temp = 0\n",
    "    for a, b in zip(df['A'], df['B']):\n",
    "        temp += a + b\n",
    "    return temp"
   ]
  },
  {
   "cell_type": "code",
   "execution_count": 22,
   "metadata": {},
   "outputs": [
    {
     "name": "stdout",
     "output_type": "stream",
     "text": [
      "19.1 ms ± 186 µs per loop (mean ± std. dev. of 7 runs, 10 loops each)\n"
     ]
    }
   ],
   "source": [
    "# Check performance using timeit\n",
    "%timeit loop_with_zip(df)"
   ]
  },
  {
   "cell_type": "code",
   "execution_count": 23,
   "metadata": {},
   "outputs": [
    {
     "name": "stdout",
     "output_type": "stream",
     "text": [
      " "
     ]
    },
    {
     "name": "stdout",
     "output_type": "stream",
     "text": [
      "         56 function calls in 0.037 seconds\n",
      "\n",
      "   Ordered by: internal time\n",
      "   List reduced from 20 to 4 due to restriction <4>\n",
      "\n",
      "   ncalls  tottime  percall  cumtime  percall filename:lineno(function)\n",
      "        1    0.036    0.036    0.037    0.037 1935659825.py:2(loop_with_zip)\n",
      "        1    0.000    0.000    0.037    0.037 {built-in method builtins.exec}\n",
      "        2    0.000    0.000    0.000    0.000 frame.py:3856(__getitem__)\n",
      "        2    0.000    0.000    0.000    0.000 base.py:5299(__contains__)"
     ]
    }
   ],
   "source": [
    "# Using Jupyter’s prune function we get a detailed analysis on number of function calls and time consumed on each step\n",
    "%prun -l 4 loop_with_zip(df)"
   ]
  },
  {
   "cell_type": "markdown",
   "metadata": {},
   "source": [
    "## Using pandas apply function"
   ]
  },
  {
   "cell_type": "code",
   "execution_count": 24,
   "metadata": {},
   "outputs": [],
   "source": [
    "# We can always use the well-known pandas apply function, which is commonly used to do complex operations on DataFrame rows and columns\n",
    "def using_apply(df):\n",
    "    return df.apply(lambda x: x['A'] + x['B'], axis=1).sum()"
   ]
  },
  {
   "cell_type": "code",
   "execution_count": 25,
   "metadata": {},
   "outputs": [
    {
     "name": "stdout",
     "output_type": "stream",
     "text": [
      "757 ms ± 32.2 ms per loop (mean ± std. dev. of 7 runs, 1 loop each)\n"
     ]
    }
   ],
   "source": [
    "# Check performance using timeit\n",
    "%timeit using_apply(df)"
   ]
  },
  {
   "cell_type": "code",
   "execution_count": 26,
   "metadata": {},
   "outputs": [
    {
     "name": "stdout",
     "output_type": "stream",
     "text": [
      " "
     ]
    },
    {
     "name": "stdout",
     "output_type": "stream",
     "text": [
      "         4600484 function calls (4600472 primitive calls) in 2.603 seconds\n",
      "\n",
      "   Ordered by: internal time\n",
      "   List reduced from 178 to 4 due to restriction <4>\n",
      "\n",
      "   ncalls  tottime  percall  cumtime  percall filename:lineno(function)\n",
      "   200000    0.430    0.000    1.641    0.000 series.py:1016(__getitem__)\n",
      "   200000    0.248    0.000    0.703    0.000 series.py:1139(_get_value)\n",
      "   200000    0.209    0.000    0.314    0.000 indexing.py:2678(check_dict_or_set_indexers)\n",
      "  1100082    0.189    0.000    0.291    0.000 {built-in method builtins.isinstance}"
     ]
    }
   ],
   "source": [
    "# Using Jupyter’s prune function we get a detailed analysis on number of function calls and time consumed on each step\n",
    "%prun -l 4 using_apply(df)"
   ]
  },
  {
   "cell_type": "markdown",
   "metadata": {},
   "source": [
    "## Using pandas builtin add function"
   ]
  },
  {
   "cell_type": "code",
   "execution_count": 28,
   "metadata": {},
   "outputs": [],
   "source": [
    "# Unfortunately many computations we do does not have a simple built-in operation in Pandas. \n",
    "# But this approach gives us a good indicator of how efficient these Pandas built-in functions are in practice\n",
    "def using_pandas_builtin(df):\n",
    "    return (df['A'] + df['B']).sum()"
   ]
  },
  {
   "cell_type": "code",
   "execution_count": 29,
   "metadata": {},
   "outputs": [
    {
     "name": "stdout",
     "output_type": "stream",
     "text": [
      "397 µs ± 25 µs per loop (mean ± std. dev. of 7 runs, 1,000 loops each)\n"
     ]
    }
   ],
   "source": [
    "# Check performance using timeit\n",
    "%timeit using_pandas_builtin(df)"
   ]
  },
  {
   "cell_type": "code",
   "execution_count": 30,
   "metadata": {},
   "outputs": [
    {
     "name": "stdout",
     "output_type": "stream",
     "text": [
      " "
     ]
    },
    {
     "name": "stdout",
     "output_type": "stream",
     "text": [
      "         293 function calls (288 primitive calls) in 0.018 seconds\n",
      "\n",
      "   Ordered by: internal time\n",
      "   List reduced from 136 to 4 due to restriction <4>\n",
      "\n",
      "   ncalls  tottime  percall  cumtime  percall filename:lineno(function)\n",
      "        1    0.010    0.010    0.010    0.010 {built-in method _operator.add}\n",
      "        2    0.003    0.002    0.003    0.002 _ufunc_config.py:33(seterr)\n",
      "        1    0.001    0.001    0.001    0.001 cast.py:1569(maybe_cast_to_integer_array)\n",
      "        1    0.001    0.001    0.004    0.004 _ufunc_config.py:430(__enter__)"
     ]
    }
   ],
   "source": [
    "# Using Jupyter’s prune function we get a detailed analysis on number of function calls and time consumed on each step\n",
    "%prun -l 4 using_pandas_builtin(df)"
   ]
  },
  {
   "cell_type": "markdown",
   "metadata": {},
   "source": [
    "## Using numpy builtin function"
   ]
  },
  {
   "cell_type": "code",
   "execution_count": 31,
   "metadata": {},
   "outputs": [],
   "source": [
    "# We convert each column into a numpy array, and does all the heavy lifting utilizing numpy’s builtin functionalities\n",
    "def using_numpy(df):\n",
    "    return (df['A'].values + df['B'].values).sum()"
   ]
  },
  {
   "cell_type": "code",
   "execution_count": 32,
   "metadata": {},
   "outputs": [
    {
     "name": "stdout",
     "output_type": "stream",
     "text": [
      "250 µs ± 13.6 µs per loop (mean ± std. dev. of 7 runs, 1,000 loops each)\n"
     ]
    }
   ],
   "source": [
    "# Check performance using timeit\n",
    "%timeit using_numpy(df)"
   ]
  },
  {
   "cell_type": "code",
   "execution_count": 33,
   "metadata": {},
   "outputs": [
    {
     "name": "stdout",
     "output_type": "stream",
     "text": [
      " "
     ]
    },
    {
     "name": "stdout",
     "output_type": "stream",
     "text": [
      "         59 function calls in 0.017 seconds\n",
      "\n",
      "   Ordered by: internal time\n",
      "   List reduced from 24 to 4 due to restriction <4>\n",
      "\n",
      "   ncalls  tottime  percall  cumtime  percall filename:lineno(function)\n",
      "        1    0.010    0.010    0.016    0.016 778788821.py:2(using_numpy)\n",
      "        2    0.003    0.001    0.005    0.003 frame.py:3856(__getitem__)\n",
      "        2    0.002    0.001    0.002    0.001 base.py:5299(__contains__)\n",
      "        2    0.001    0.000    0.001    0.000 frame.py:4405(_get_item_cache)"
     ]
    }
   ],
   "source": [
    "# Using Jupyter’s prune function we get a detailed analysis on number of function calls and time consumed on each step\n",
    "%prun -l 4 using_numpy(df)"
   ]
  }
 ],
 "metadata": {
  "kernelspec": {
   "display_name": "Python 3",
   "language": "python",
   "name": "python3"
  },
  "language_info": {
   "codemirror_mode": {
    "name": "ipython",
    "version": 3
   },
   "file_extension": ".py",
   "mimetype": "text/x-python",
   "name": "python",
   "nbconvert_exporter": "python",
   "pygments_lexer": "ipython3",
   "version": "3.11.5"
  }
 },
 "nbformat": 4,
 "nbformat_minor": 2
}
