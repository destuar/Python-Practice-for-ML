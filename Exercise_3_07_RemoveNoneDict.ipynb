{
 "cells": [
  {
   "cell_type": "markdown",
   "metadata": {},
   "source": [
    "Link to Medium blog post: https://betterprogramming.pub/how-to-remove-null-none-values-from-a-dictionary-in-python-1bedf1aab5e4"
   ]
  },
  {
   "cell_type": "markdown",
   "metadata": {},
   "source": [
    "# How to Remove Null/None Values From a Dictionary in Python"
   ]
  },
  {
   "cell_type": "markdown",
   "metadata": {},
   "source": [
    "## Challenge"
   ]
  },
  {
   "cell_type": "markdown",
   "metadata": {},
   "source": [
    "Given a Python dictionary, remove any term whose value is None\n",
    "\n",
    "The function should accommodate nested dictionaries, which occur when the value of a term is another dictionary."
   ]
  },
  {
   "cell_type": "markdown",
   "metadata": {},
   "source": [
    "## Solution"
   ]
  },
  {
   "cell_type": "markdown",
   "metadata": {},
   "source": [
    "To clean the provided dictionary, each key-value pair will be examined. If the data type of the value is a dict, then the function should be recursively called. Otherwise, as long as the value is not equal to None, then it will be added to the clean dictionary, which is returned after iterating over the entire dictionary."
   ]
  },
  {
   "cell_type": "code",
   "execution_count": 1,
   "metadata": {},
   "outputs": [],
   "source": [
    "def cleanNullTerms(d):\n",
    "   clean = {}\n",
    "   for k, v in d.items():\n",
    "      if isinstance(v, dict):\n",
    "         nested = cleanNullTerms(v)\n",
    "         if len(nested.keys()) > 0:\n",
    "            clean[k] = nested\n",
    "      elif v is not None:\n",
    "         clean[k] = v\n",
    "   return clean"
   ]
  },
  {
   "cell_type": "markdown",
   "metadata": {},
   "source": [
    "To test our function, we’ll use sample data that includes None values in both the top level as well as a nested dictionary."
   ]
  },
  {
   "cell_type": "code",
   "execution_count": 2,
   "metadata": {},
   "outputs": [
    {
     "name": "stdout",
     "output_type": "stream",
     "text": [
      "{'first_name': 'Jonathan', 'last_name': 'Hsu', 'family': {'mother': 'Mary', 'father': 'Peter', 'brother': 'Charles'}}\n"
     ]
    },
    {
     "data": {
      "text/plain": [
       "\"\\n{\\n  'first_name': 'Jonathan',\\n  'last_name': 'Hsu',\\n  'family': {\\n    'mother': 'Mary',\\n    'father': 'Peter',\\n    'brother': 'Charles'\\n  }\\n}\\n\""
      ]
     },
     "execution_count": 2,
     "metadata": {},
     "output_type": "execute_result"
    }
   ],
   "source": [
    "data = {\n",
    "   \"first_name\": \"Jonathan\",\n",
    "   \"middle_name\": None,\n",
    "   \"last_name\": \"Hsu\",\n",
    "   \"family\": {\n",
    "      \"mother\": \"Mary\",\n",
    "      \"father\": \"Peter\",\n",
    "      \"brother\": \"Charles\",\n",
    "      \"sister\": None\n",
    "   }\n",
    "}\n",
    "print(cleanNullTerms(data))\n",
    "\"\"\"\n",
    "{\n",
    "  'first_name': 'Jonathan',\n",
    "  'last_name': 'Hsu',\n",
    "  'family': {\n",
    "    'mother': 'Mary',\n",
    "    'father': 'Peter',\n",
    "    'brother': 'Charles'\n",
    "  }\n",
    "}\n",
    "\"\"\""
   ]
  },
  {
   "cell_type": "markdown",
   "metadata": {},
   "source": [
    "## Honorable Mention"
   ]
  },
  {
   "cell_type": "markdown",
   "metadata": {},
   "source": [
    "If nested dictionaries are not a concern then a one-liner function using dictionary comprehension is sufficient. This function would perform a shallow clean, meaning None values in nested data structures would not be removed."
   ]
  },
  {
   "cell_type": "code",
   "execution_count": 3,
   "metadata": {},
   "outputs": [],
   "source": [
    "def cleanNullTerms(d):\n",
    "   return {\n",
    "      k:v\n",
    "      for k, v in d.items()\n",
    "      if v is not None\n",
    "   }"
   ]
  }
 ],
 "metadata": {
  "kernelspec": {
   "display_name": "Python 3",
   "language": "python",
   "name": "python3"
  },
  "language_info": {
   "codemirror_mode": {
    "name": "ipython",
    "version": 3
   },
   "file_extension": ".py",
   "mimetype": "text/x-python",
   "name": "python",
   "nbconvert_exporter": "python",
   "pygments_lexer": "ipython3",
   "version": "3.11.5"
  },
  "orig_nbformat": 4
 },
 "nbformat": 4,
 "nbformat_minor": 2
}
