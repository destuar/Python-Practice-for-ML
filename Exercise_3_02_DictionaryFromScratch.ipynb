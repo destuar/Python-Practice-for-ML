{
 "cells": [
  {
   "cell_type": "markdown",
   "metadata": {},
   "source": [
    "Link to Medium blog post: https://towardsdatascience.com/python-dictionary-from-scratch-c41316794bcc"
   ]
  },
  {
   "cell_type": "markdown",
   "metadata": {},
   "source": [
    "# Python Dictionary from Scratch"
   ]
  },
  {
   "cell_type": "markdown",
   "metadata": {},
   "source": [
    "### Declaring a dictionary in python"
   ]
  },
  {
   "cell_type": "code",
   "execution_count": 5,
   "metadata": {},
   "outputs": [
    {
     "name": "stdout",
     "output_type": "stream",
     "text": [
      "{'Name': 'Tanu', 'Sex': 'Male', 'Age': 23}\n",
      "<class 'dict'>\n"
     ]
    }
   ],
   "source": [
    "# Declaring a dictionary\n",
    "dictionary = {}\n",
    "dictionary = {'Name': 'Tanu', 'Sex': 'Male', 'Age': 23}\n",
    "print(dictionary)\n",
    "\n",
    "print(type(dictionary))\n"
   ]
  },
  {
   "cell_type": "markdown",
   "metadata": {},
   "source": [
    "## 1) Accessing the elements in a dictionary"
   ]
  },
  {
   "cell_type": "markdown",
   "metadata": {},
   "source": [
    "Dictionaries can be accessed by their index to get the value. To do this, all you have to do is just place the number or the name of the key inside the pair of square brackets along with the name of the dictionary.\n",
    "\n"
   ]
  },
  {
   "cell_type": "code",
   "execution_count": 4,
   "metadata": {},
   "outputs": [
    {
     "name": "stdout",
     "output_type": "stream",
     "text": [
      "{'Name': 'Tanu', 'Sex': 'Male', 'Age': 23}\n",
      "Tanu\n",
      "Male\n"
     ]
    }
   ],
   "source": [
    "# Accessing the elements in a dictionary\n",
    "dictionary = {'Name': 'Tanu', 'Sex': 'Male', 'Age': 23}\n",
    "print(dictionary)\n",
    "\n",
    "print(dictionary['Name'])\n",
    "\n",
    "print(dictionary['Sex'])\n"
   ]
  },
  {
   "cell_type": "markdown",
   "metadata": {},
   "source": [
    "If you try to access the key which is not declared in the dictionary then an exception would be raised indicating no results found:"
   ]
  },
  {
   "cell_type": "code",
   "execution_count": 7,
   "metadata": {},
   "outputs": [
    {
     "ename": "KeyError",
     "evalue": "'Height'",
     "output_type": "error",
     "traceback": [
      "\u001b[0;31m---------------------------------------------------------------------------\u001b[0m",
      "\u001b[0;31mKeyError\u001b[0m                                  Traceback (most recent call last)",
      "Cell \u001b[0;32mIn[7], line 1\u001b[0m\n\u001b[0;32m----> 1\u001b[0m \u001b[39mprint\u001b[39m(dictionary[\u001b[39m'\u001b[39;49m\u001b[39mHeight\u001b[39;49m\u001b[39m'\u001b[39;49m])\n",
      "\u001b[0;31mKeyError\u001b[0m: 'Height'"
     ]
    }
   ],
   "source": [
    "print(dictionary['Height'])"
   ]
  },
  {
   "cell_type": "markdown",
   "metadata": {},
   "source": [
    "Also, we can use the get() of the dictionary to get or access the values of the dictionary as seen below:"
   ]
  },
  {
   "cell_type": "code",
   "execution_count": 8,
   "metadata": {},
   "outputs": [
    {
     "name": "stdout",
     "output_type": "stream",
     "text": [
      "23\n"
     ]
    }
   ],
   "source": [
    "print(dictionary.get('Age'))"
   ]
  },
  {
   "cell_type": "markdown",
   "metadata": {},
   "source": [
    "## 2) Removing the elements from a dictionary."
   ]
  },
  {
   "cell_type": "markdown",
   "metadata": {},
   "source": [
    "In python, there are four different ways or methods that can be used to remove an element from a dictionary. Those are pop, del, popitem and clear. The del is used to delete a key from a dictionary, the pop is used to remove a specific key from a dictionary, popitem is used to remove the key arbitrarily from a dictionary, and the clear is used to just clear or delete all the elements in the dictionary (as the name suggests)."
   ]
  },
  {
   "cell_type": "code",
   "execution_count": 9,
   "metadata": {},
   "outputs": [
    {
     "name": "stdout",
     "output_type": "stream",
     "text": [
      "{'Name': 'Tanu', 'Sex': 'Male', 'Age': 23, 'Height': 5.8, 'Occupation': 'Student'}\n",
      "{'Sex': 'Male', 'Age': 23, 'Height': 5.8, 'Occupation': 'Student'}\n",
      "('Occupation', 'Student')\n",
      "{'Age': 23, 'Height': 5.8}\n",
      "{}\n"
     ]
    }
   ],
   "source": [
    "# Removing the elements from a dictionary\n",
    "dictionary = {'Name': 'Tanu', 'Sex': 'Male', 'Age': 23, 'Height': 5.8, 'Occupation': 'Student'}\n",
    "print(dictionary)\n",
    "\n",
    "# Deleting an element\n",
    "del dictionary['Name']\n",
    "print(dictionary)\n",
    "\n",
    "# Popping an item\n",
    "print(dictionary.popitem())\n",
    "\n",
    "# Popping the value\n",
    "dictionary.pop('Sex')\n",
    "\n",
    "print(dictionary)\n",
    "\n",
    "# Clearing the entire dictionary\n",
    "dictionary.clear()\n",
    "print(dictionary)"
   ]
  },
  {
   "cell_type": "markdown",
   "metadata": {},
   "source": [
    "## 3) Iterating Through a Dictionary"
   ]
  },
  {
   "cell_type": "markdown",
   "metadata": {},
   "source": [
    "Using a for loop we can iterate through each key in a dictionary as shown below:"
   ]
  },
  {
   "cell_type": "code",
   "execution_count": 10,
   "metadata": {},
   "outputs": [
    {
     "name": "stdout",
     "output_type": "stream",
     "text": [
      "{'Name': 'Tanu', 'Sex': 'Male', 'Age': 23, 'Height': 5.8, 'Occupation': 'Student'}\n",
      "Tanu\n",
      "Male\n",
      "23\n",
      "5.8\n",
      "Student\n",
      "Name\n",
      "Sex\n",
      "Age\n",
      "Height\n",
      "Occupation\n"
     ]
    }
   ],
   "source": [
    "dictionary = {'Name': 'Tanu', 'Sex': 'Male', 'Age': 23, 'Height': 5.8, 'Occupation': 'Student'}\n",
    "print(dictionary)\n",
    "\n",
    "# Iterating through the values\n",
    "for i in dictionary:\n",
    "    print(dictionary[i])\n",
    "\n",
    "# Iterating through the keys\n",
    "for i in dictionary:\n",
    "    print(i)"
   ]
  },
  {
   "cell_type": "markdown",
   "metadata": {},
   "source": [
    "## 4) All"
   ]
  },
  {
   "cell_type": "markdown",
   "metadata": {},
   "source": [
    "The all () in dictionary returns “True” if all keys of the dictionary are true (or if the dictionary is empty). If the keys in the dictionary are true or if the dictionary all method returns true or else it will return false."
   ]
  },
  {
   "cell_type": "code",
   "execution_count": 12,
   "metadata": {},
   "outputs": [
    {
     "name": "stdout",
     "output_type": "stream",
     "text": [
      "{0: 'Tanu', 1: 'Prabhu'}\n",
      "False\n",
      "True\n",
      "True\n"
     ]
    }
   ],
   "source": [
    "dictionary = {0: 'Tanu', 1: 'Prabhu'}\n",
    "print(dictionary)\n",
    "\n",
    "print(all(dictionary))\n",
    "\n",
    "dictionary = {1: \"Tanu\", 1: \"Prabhu\"}\n",
    "print(all(dictionary))\n",
    "\n",
    "dictionary = {}\n",
    "print(all(dictionary))"
   ]
  },
  {
   "cell_type": "markdown",
   "metadata": {},
   "source": [
    "## 5) Any"
   ]
  },
  {
   "cell_type": "markdown",
   "metadata": {},
   "source": [
    "The any () in dictionary return “True” if any key of the dictionary is true. If the dictionary is empty, returns “False”."
   ]
  },
  {
   "cell_type": "code",
   "execution_count": 13,
   "metadata": {},
   "outputs": [
    {
     "name": "stdout",
     "output_type": "stream",
     "text": [
      "{0: 'Tanu', 1: 'Prabhu'}\n",
      "True\n",
      "False\n",
      "False\n"
     ]
    }
   ],
   "source": [
    "dictionary = {0: 'Tanu', 1: 'Prabhu'}\n",
    "print(dictionary)\n",
    "\n",
    "print(any(dictionary))\n",
    "\n",
    "dictionary = {0: \"Tanu\", 0: \"Prabhu\"}\n",
    "print(any(dictionary))\n",
    "\n",
    "dictionary = {0: \"Tanu\"}\n",
    "print(any(dictionary))"
   ]
  },
  {
   "cell_type": "markdown",
   "metadata": {},
   "source": [
    "## 6) Len"
   ]
  },
  {
   "cell_type": "markdown",
   "metadata": {},
   "source": [
    "The length () method in the dictionary returns the length of the dictionary (obviously). It returns the number of items of the dictionary."
   ]
  },
  {
   "cell_type": "code",
   "execution_count": 14,
   "metadata": {},
   "outputs": [
    {
     "name": "stdout",
     "output_type": "stream",
     "text": [
      "{'Name': 'Tanu', 'Sex': 'Male', 'Age': 23, 'Height': 5.8, 'Occupation': 'Student'}\n",
      "5\n"
     ]
    }
   ],
   "source": [
    "dictionary = {'Name': 'Tanu', 'Sex': 'Male', 'Age': 23, 'Height': 5.8, 'Occupation': 'Student'}\n",
    "print(dictionary)\n",
    "\n",
    "print(len(dictionary))"
   ]
  },
  {
   "cell_type": "markdown",
   "metadata": {},
   "source": [
    "## 7) Sorted"
   ]
  },
  {
   "cell_type": "markdown",
   "metadata": {},
   "source": [
    "The Sorted() method in dictionary returns a new sorted list of keys in the dictionary."
   ]
  },
  {
   "cell_type": "code",
   "execution_count": 15,
   "metadata": {},
   "outputs": [
    {
     "name": "stdout",
     "output_type": "stream",
     "text": [
      "{'Name': 'Tanu', 'Sex': 'Male', 'Age': 23, 'Height': 5.8, 'Occupation': 'Student'}\n",
      "['Age', 'Height', 'Name', 'Occupation', 'Sex']\n",
      "['Sex', 'Occupation', 'Name', 'Height', 'Age']\n"
     ]
    }
   ],
   "source": [
    "dictionary = {'Name': 'Tanu', 'Sex': 'Male', 'Age': 23, 'Height': 5.8, 'Occupation': 'Student'}\n",
    "print(dictionary)\n",
    "\n",
    "# Sorting in a ascending order\n",
    "print(sorted(dictionary))\n",
    "\n",
    "# Sorting in a descending order\n",
    "print(sorted(dictionary, reverse = True))"
   ]
  },
  {
   "cell_type": "markdown",
   "metadata": {},
   "source": [
    "The sorted() method accepts a reverse parameter as an optional argument.\n",
    "\n"
   ]
  },
  {
   "cell_type": "markdown",
   "metadata": {},
   "source": [
    "## 8) Copy"
   ]
  },
  {
   "cell_type": "markdown",
   "metadata": {},
   "source": [
    "As the name suggests the copy method in dictionary returns a copy of the dictionary."
   ]
  },
  {
   "cell_type": "code",
   "execution_count": 16,
   "metadata": {},
   "outputs": [
    {
     "name": "stdout",
     "output_type": "stream",
     "text": [
      "{'Name': 'Tanu', 'Sex': 'Male', 'Age': 23, 'Height': 5.8, 'Occupation': 'Student'}\n",
      "{}\n"
     ]
    },
    {
     "data": {
      "text/plain": [
       "{'Name': 'Tanu',\n",
       " 'Sex': 'Male',\n",
       " 'Age': 23,\n",
       " 'Height': 5.8,\n",
       " 'Occupation': 'Student'}"
      ]
     },
     "execution_count": 16,
     "metadata": {},
     "output_type": "execute_result"
    }
   ],
   "source": [
    "dictionary = {'Name': 'Tanu', 'Sex': 'Male', 'Age': 23, 'Height': 5.8, 'Occupation': 'Student'}\n",
    "print(dictionary)\n",
    "\n",
    "dictionary1 = {}\n",
    "print(dictionary1)\n",
    "\n",
    "dictionary1 = dictionary.copy()\n",
    "dictionary1"
   ]
  },
  {
   "cell_type": "markdown",
   "metadata": {},
   "source": [
    "## 9) Keys"
   ]
  },
  {
   "cell_type": "markdown",
   "metadata": {},
   "source": [
    "Python dictionary method key() returns a list of all the available keys in the dictionary."
   ]
  },
  {
   "cell_type": "code",
   "execution_count": 17,
   "metadata": {},
   "outputs": [
    {
     "name": "stdout",
     "output_type": "stream",
     "text": [
      "{'Name': 'Tanu', 'Sex': 'Male', 'Age': 23, 'Height': 5.8, 'Occupation': 'Student'}\n",
      "dict_keys(['Name', 'Sex', 'Age', 'Height', 'Occupation'])\n"
     ]
    }
   ],
   "source": [
    "dictionary = {'Name': 'Tanu', 'Sex': 'Male', 'Age': 23, 'Height': 5.8, 'Occupation': 'Student'}\n",
    "print(dictionary)\n",
    "\n",
    "print(dictionary.keys())"
   ]
  },
  {
   "cell_type": "markdown",
   "metadata": {},
   "source": [
    "## 10) Values"
   ]
  },
  {
   "cell_type": "markdown",
   "metadata": {},
   "source": [
    "Python dictionary method values() returns a list of all the values available in a given dictionary."
   ]
  },
  {
   "cell_type": "code",
   "execution_count": 18,
   "metadata": {},
   "outputs": [
    {
     "name": "stdout",
     "output_type": "stream",
     "text": [
      "{'Name': 'Tanu', 'Sex': 'Male', 'Age': 23, 'Height': 5.8, 'Occupation': 'Student'}\n",
      "dict_values(['Tanu', 'Male', 23, 5.8, 'Student'])\n"
     ]
    }
   ],
   "source": [
    "dictionary = {'Name': 'Tanu', 'Sex': 'Male', 'Age': 23, 'Height': 5.8, 'Occupation': 'Student'}\n",
    "print(dictionary)\n",
    "\n",
    "print(dictionary.values())\n"
   ]
  }
 ],
 "metadata": {
  "kernelspec": {
   "display_name": "Python 3",
   "language": "python",
   "name": "python3"
  },
  "language_info": {
   "codemirror_mode": {
    "name": "ipython",
    "version": 3
   },
   "file_extension": ".py",
   "mimetype": "text/x-python",
   "name": "python",
   "nbconvert_exporter": "python",
   "pygments_lexer": "ipython3",
   "version": "3.11.5"
  },
  "orig_nbformat": 4
 },
 "nbformat": 4,
 "nbformat_minor": 2
}
