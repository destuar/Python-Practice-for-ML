{
 "cells": [
  {
   "cell_type": "markdown",
   "metadata": {},
   "source": [
    "Link to Medium blog post: https://medium.com/python-features/python-dictionarys-less-known-insight-30c7ff17d09d"
   ]
  },
  {
   "cell_type": "markdown",
   "metadata": {},
   "source": [
    "# Python Dictionary’s less known insight"
   ]
  },
  {
   "cell_type": "markdown",
   "metadata": {},
   "source": [
    "I have been programming in Python as part of my job as a Computer Vision engineer. Usually I would browse the Standard library docs, read articles, books to enhance my Pythonic skills.\n",
    "\n",
    "If you are familiar with any language, you must have come across dictionary data structure. To quote:\n",
    "\n",
    "A dictionary is an associative array (also known as hashes). … The values of a dictionary can be any Python data type. So dictionaries are unordered key-value-pairs.\n",
    "\n",
    "If you want to get started with Python Dictionary, you can refer this comprehensive blogpost.\n",
    "Recently I came across this dictionary expression, which provides a useful insight into the internal working of dictionaries."
   ]
  },
  {
   "cell_type": "code",
   "execution_count": 1,
   "metadata": {},
   "outputs": [
    {
     "data": {
      "text/plain": [
       "{1: 'second'}"
      ]
     },
     "execution_count": 1,
     "metadata": {},
     "output_type": "execute_result"
    }
   ],
   "source": [
    "{1: 'first', 1.0: 'second'}"
   ]
  },
  {
   "cell_type": "markdown",
   "metadata": {},
   "source": [
    "What does the above expression evaluates to? Before answering, let’s walk through some of the concepts to be in better shape to answer.\n",
    "\n",
    "When Python processes any dictionary expression, it starts by creating an empty dictionary object and then assigns the keys and values in the order as provided in the dictionary expression. For example:"
   ]
  },
  {
   "cell_type": "code",
   "execution_count": 3,
   "metadata": {},
   "outputs": [],
   "source": [
    "d = {1:'one', 2:'two', 3:'three'}\n",
    "#----------evaluates to----------\n",
    "#>>> d = dict()\n",
    "#>>> d[1] = 'one'\n",
    "#>>> d[2] = 'two'\n",
    "#>>> d[3] = 'three'"
   ]
  },
  {
   "cell_type": "markdown",
   "metadata": {},
   "source": [
    "Dictionaries check for equality and also compare the hash value to determine if the two keys are the same. Equality is checked by __eq__()method whereas hash value by __hash__() To elaborate more on this, let’s consider the an example. Below is a class EqualObj whose object will always return True when compared with any other object (since __eq__(self)return True every time). However the hash value of two objects will be different since the __hash__(self) method returns the id() of the object. In Python id() returns the address of the object in memory, which is always unique."
   ]
  },
  {
   "cell_type": "code",
   "execution_count": 18,
   "metadata": {},
   "outputs": [],
   "source": [
    "class EqualObj:\n",
    "    def __init__(self, value):\n",
    "        self.value = value\n",
    "\n",
    "    def __eq__(self, other):\n",
    "        if isinstance(other, EqualObj):\n",
    "            return self.value == other.value\n",
    "        return False\n",
    "\n",
    "    def __hash__(self):\n",
    "        return hash(self.value)"
   ]
  },
  {
   "cell_type": "markdown",
   "metadata": {},
   "source": [
    "If we play around with the objects of the above class:"
   ]
  },
  {
   "cell_type": "code",
   "execution_count": 20,
   "metadata": {},
   "outputs": [
    {
     "data": {
      "text/plain": [
       "True"
      ]
     },
     "execution_count": 20,
     "metadata": {},
     "output_type": "execute_result"
    }
   ],
   "source": [
    "obj1 = EqualObj(value=\"some value\")\n",
    "obj2 = EqualObj(value=\"some value\")\n",
    "obj1 == obj2"
   ]
  },
  {
   "cell_type": "code",
   "execution_count": 21,
   "metadata": {},
   "outputs": [
    {
     "data": {
      "text/plain": [
       "False"
      ]
     },
     "execution_count": 21,
     "metadata": {},
     "output_type": "execute_result"
    }
   ],
   "source": [
    "obj1 == 'anyObject'"
   ]
  },
  {
   "cell_type": "code",
   "execution_count": 22,
   "metadata": {},
   "outputs": [
    {
     "data": {
      "text/plain": [
       "7480094057347758548"
      ]
     },
     "execution_count": 22,
     "metadata": {},
     "output_type": "execute_result"
    }
   ],
   "source": [
    "hash(obj1)"
   ]
  },
  {
   "cell_type": "code",
   "execution_count": 23,
   "metadata": {},
   "outputs": [
    {
     "data": {
      "text/plain": [
       "7480094057347758548"
      ]
     },
     "execution_count": 23,
     "metadata": {},
     "output_type": "execute_result"
    }
   ],
   "source": [
    "hash(obj2)"
   ]
  },
  {
   "cell_type": "code",
   "execution_count": 24,
   "metadata": {},
   "outputs": [
    {
     "data": {
      "text/plain": [
       "True"
      ]
     },
     "execution_count": 24,
     "metadata": {},
     "output_type": "execute_result"
    }
   ],
   "source": [
    "hash(obj1) == hash(obj2)"
   ]
  },
  {
   "cell_type": "markdown",
   "metadata": {},
   "source": [
    "These are the so-called “rich comparison” methods. The correspondence between operator symbols and method names is as follows: x<y calls x.__lt__(y), x<=ycalls x.__le__(y), x==y calls x.__eq__(y), x!=y calls x.__ne__(y), x>ycalls x.__gt__(y), and x>=y calls x.__ge__(y).\n",
    "\n",
    "Henceforth obj1 == obj2 return True in above case.\n",
    "\n",
    "if we create a dictionary with objects of above class as keys:"
   ]
  },
  {
   "cell_type": "code",
   "execution_count": 27,
   "metadata": {},
   "outputs": [
    {
     "data": {
      "text/plain": [
       "{<__main__.EqualObj at 0x116975350>: 'second'}"
      ]
     },
     "execution_count": 27,
     "metadata": {},
     "output_type": "execute_result"
    }
   ],
   "source": [
    "d = {obj1: 'first', obj2: 'second'}\n",
    "d"
   ]
  },
  {
   "cell_type": "markdown",
   "metadata": {},
   "source": [
    "Hence the dict d retains both the keys, since the hash of the keys were different despite the fact that the objects were identical. If we create a dictionary of two objects having same hash but the object themselves won’t be equal, we would observe the same behaviour. Consider the below class again."
   ]
  },
  {
   "cell_type": "code",
   "execution_count": 28,
   "metadata": {},
   "outputs": [],
   "source": [
    "class EqualHashObj:\n",
    "    def __hash__(self):\n",
    "        return 1\n"
   ]
  },
  {
   "cell_type": "markdown",
   "metadata": {},
   "source": [
    "Instantiating the above class:"
   ]
  },
  {
   "cell_type": "code",
   "execution_count": 29,
   "metadata": {},
   "outputs": [
    {
     "data": {
      "text/plain": [
       "False"
      ]
     },
     "execution_count": 29,
     "metadata": {},
     "output_type": "execute_result"
    }
   ],
   "source": [
    "obj1 = EqualHashObj()\n",
    "obj2 = EqualHashObj()\n",
    "obj1 == obj2       # x == y calls x.__eq__(y)"
   ]
  },
  {
   "cell_type": "code",
   "execution_count": 30,
   "metadata": {},
   "outputs": [
    {
     "data": {
      "text/plain": [
       "1"
      ]
     },
     "execution_count": 30,
     "metadata": {},
     "output_type": "execute_result"
    }
   ],
   "source": [
    "hash(obj1)"
   ]
  },
  {
   "cell_type": "code",
   "execution_count": 31,
   "metadata": {},
   "outputs": [
    {
     "data": {
      "text/plain": [
       "1"
      ]
     },
     "execution_count": 31,
     "metadata": {},
     "output_type": "execute_result"
    }
   ],
   "source": [
    "hash(obj2)"
   ]
  },
  {
   "cell_type": "code",
   "execution_count": 32,
   "metadata": {},
   "outputs": [
    {
     "data": {
      "text/plain": [
       "True"
      ]
     },
     "execution_count": 32,
     "metadata": {},
     "output_type": "execute_result"
    }
   ],
   "source": [
    "hash(obj1) == hash(obj2)"
   ]
  },
  {
   "cell_type": "code",
   "execution_count": 33,
   "metadata": {},
   "outputs": [
    {
     "data": {
      "text/plain": [
       "{<__main__.EqualHashObj at 0x11687fb90>: 'first',\n",
       " <__main__.EqualHashObj at 0x11687f150>: 'second'}"
      ]
     },
     "execution_count": 33,
     "metadata": {},
     "output_type": "execute_result"
    }
   ],
   "source": [
    "d = {obj1: 'first', obj2: 'second'}\n",
    "d"
   ]
  },
  {
   "cell_type": "markdown",
   "metadata": {},
   "source": [
    "We observed the same behaviour if we have the dictionary with keys as object of EqualHashObj.\n",
    "\n"
   ]
  },
  {
   "cell_type": "markdown",
   "metadata": {},
   "source": [
    "Python’s dictionaries don’t update the key object itself when the corresponding key value is updated. If the two key objects are evaluated to be identical ( __eq__() & __hash__() returns True), then Python dictionary won’t update the key object. Only the value will be updated. This is shown in below example. This behaviour aligns with the performance optimisation since there is no need to unnecessarily update the key object, when it is essentially the same. If you want to read more on why it is done, you should probably check out hash table data structure, since dictionaries use it internally in most languages and Python is no exception."
   ]
  },
  {
   "cell_type": "code",
   "execution_count": 34,
   "metadata": {},
   "outputs": [
    {
     "data": {
      "text/plain": [
       "{1: 'second'}"
      ]
     },
     "execution_count": 34,
     "metadata": {},
     "output_type": "execute_result"
    }
   ],
   "source": [
    "d = {1: 'first'}\n",
    "d[1.0] = 'second'\n",
    "d"
   ]
  },
  {
   "cell_type": "markdown",
   "metadata": {},
   "source": [
    "Since the keys 1 and 1.0 are identical, therefore the key 1 won’t be updated, only the value will be updated to second\n",
    "Hence our first dictionary expression >>> d = {1: 'first', 1.0: 'second'}\n",
    "will evaluate to d = {1:'second'}. Only single key object will be present 1and it’s value will be the last updated i.e. second."
   ]
  }
 ],
 "metadata": {
  "kernelspec": {
   "display_name": "Python 3",
   "language": "python",
   "name": "python3"
  },
  "language_info": {
   "codemirror_mode": {
    "name": "ipython",
    "version": 3
   },
   "file_extension": ".py",
   "mimetype": "text/x-python",
   "name": "python",
   "nbconvert_exporter": "python",
   "pygments_lexer": "ipython3",
   "version": "3.11.5"
  },
  "orig_nbformat": 4
 },
 "nbformat": 4,
 "nbformat_minor": 2
}
