{
 "cells": [
  {
   "cell_type": "markdown",
   "metadata": {},
   "source": [
    "Link to Medium blog post: https://julia-kho.medium.com/beyond-pythons-built-in-dictionaries-create-dictionaries-like-a-pro-a8d9246e1bb0"
   ]
  },
  {
   "cell_type": "markdown",
   "metadata": {},
   "source": [
    "# Code Smarter with Python Dictionary Subclasses"
   ]
  },
  {
   "cell_type": "markdown",
   "metadata": {},
   "source": [
    "## 1. Counter"
   ]
  },
  {
   "cell_type": "markdown",
   "metadata": {},
   "source": [
    "If we wanted to get a count of items, a dictionary is useful for keeping track. In this situation where we want running totals, most beginners may write code like this to add items to a dictionary:"
   ]
  },
  {
   "cell_type": "code",
   "execution_count": 1,
   "metadata": {},
   "outputs": [],
   "source": [
    "my_list = ['apple', 'dragonfruit', 'apple', 'banana', 'banana', 'grape', 'strawberry', \n",
    "            'peach', 'grape', 'apple', 'watermelon']\n",
    "\n",
    "fruits = {}\n",
    "\n",
    "for item in my_list:\n",
    "    if item in fruits:\n",
    "        fruits[item] += 1\n",
    "    else:\n",
    "        fruits[item] = 1"
   ]
  },
  {
   "cell_type": "code",
   "execution_count": 2,
   "metadata": {},
   "outputs": [
    {
     "data": {
      "text/plain": [
       "{'apple': 3,\n",
       " 'dragonfruit': 1,\n",
       " 'banana': 2,\n",
       " 'grape': 2,\n",
       " 'strawberry': 1,\n",
       " 'peach': 1,\n",
       " 'watermelon': 1}"
      ]
     },
     "execution_count": 2,
     "metadata": {},
     "output_type": "execute_result"
    }
   ],
   "source": [
    "fruits"
   ]
  },
  {
   "cell_type": "markdown",
   "metadata": {},
   "source": [
    "A better, cleaner way to do this is to put the list of fruits into Counter as shown below.\n",
    "\n"
   ]
  },
  {
   "cell_type": "code",
   "execution_count": 4,
   "metadata": {},
   "outputs": [],
   "source": [
    "from collections import Counter\n",
    "my_list = ['apple', 'dragonfruit', 'apple', 'banana', 'banana', 'grape', 'strawberry', \n",
    "            'peach', 'grape', 'apple', 'watermelon']\n",
    "\n",
    "fruits = Counter(my_list)"
   ]
  },
  {
   "cell_type": "code",
   "execution_count": 5,
   "metadata": {},
   "outputs": [
    {
     "data": {
      "text/plain": [
       "Counter({'apple': 3,\n",
       "         'banana': 2,\n",
       "         'grape': 2,\n",
       "         'dragonfruit': 1,\n",
       "         'strawberry': 1,\n",
       "         'peach': 1,\n",
       "         'watermelon': 1})"
      ]
     },
     "execution_count": 5,
     "metadata": {},
     "output_type": "execute_result"
    }
   ],
   "source": [
    "fruits"
   ]
  },
  {
   "cell_type": "markdown",
   "metadata": {},
   "source": [
    "Notice that Counter can create your dictionary with a count of all the fruits in just one line of code! How cool is that?\n",
    "\n",
    "In addition, we now also have access to special methods of the Counter subclass that can save you coding time."
   ]
  },
  {
   "cell_type": "markdown",
   "metadata": {},
   "source": [
    "### Methods"
   ]
  },
  {
   "cell_type": "markdown",
   "metadata": {},
   "source": [
    "A) One of my favorite is the .most_common method, which returns the most common elements and their counts from the most common to the least. This is super useful when you are interested in quickly locating the most popular or least popular item in your dictionary."
   ]
  },
  {
   "cell_type": "code",
   "execution_count": 6,
   "metadata": {},
   "outputs": [
    {
     "data": {
      "text/plain": [
       "[('apple', 3),\n",
       " ('banana', 2),\n",
       " ('grape', 2),\n",
       " ('dragonfruit', 1),\n",
       " ('strawberry', 1),\n",
       " ('peach', 1),\n",
       " ('watermelon', 1)]"
      ]
     },
     "execution_count": 6,
     "metadata": {},
     "output_type": "execute_result"
    }
   ],
   "source": [
    "fruits.most_common()"
   ]
  },
  {
   "cell_type": "markdown",
   "metadata": {},
   "source": [
    "B) The Counter subclass is also useful for mathematical operations between dictionaries. We can add or subtract, or find the intersection and union between two Counters. These are some handy properties!"
   ]
  },
  {
   "cell_type": "code",
   "execution_count": 7,
   "metadata": {},
   "outputs": [
    {
     "data": {
      "text/plain": [
       "Counter({'peach': 1, 'apple': 1})"
      ]
     },
     "execution_count": 7,
     "metadata": {},
     "output_type": "execute_result"
    }
   ],
   "source": [
    "more_fruits  = Counter(['peach', 'apple'])\n",
    "more_fruits"
   ]
  },
  {
   "cell_type": "code",
   "execution_count": 8,
   "metadata": {},
   "outputs": [
    {
     "data": {
      "text/plain": [
       "Counter({'apple': 4,\n",
       "         'banana': 2,\n",
       "         'grape': 2,\n",
       "         'peach': 2,\n",
       "         'dragonfruit': 1,\n",
       "         'strawberry': 1,\n",
       "         'watermelon': 1})"
      ]
     },
     "execution_count": 8,
     "metadata": {},
     "output_type": "execute_result"
    }
   ],
   "source": [
    "fruits + more_fruits"
   ]
  },
  {
   "cell_type": "code",
   "execution_count": 9,
   "metadata": {},
   "outputs": [
    {
     "data": {
      "text/plain": [
       "Counter({'apple': 2,\n",
       "         'banana': 2,\n",
       "         'grape': 2,\n",
       "         'dragonfruit': 1,\n",
       "         'strawberry': 1,\n",
       "         'watermelon': 1})"
      ]
     },
     "execution_count": 9,
     "metadata": {},
     "output_type": "execute_result"
    }
   ],
   "source": [
    "fruits - more_fruits"
   ]
  },
  {
   "cell_type": "code",
   "execution_count": 11,
   "metadata": {},
   "outputs": [
    {
     "data": {
      "text/plain": [
       "Counter({'apple': 1, 'peach': 1})"
      ]
     },
     "execution_count": 11,
     "metadata": {},
     "output_type": "execute_result"
    }
   ],
   "source": [
    "fruits & more_fruits #intersection: min(fruit, more_fruits)"
   ]
  },
  {
   "cell_type": "code",
   "execution_count": 12,
   "metadata": {},
   "outputs": [
    {
     "data": {
      "text/plain": [
       "Counter({'apple': 3,\n",
       "         'banana': 2,\n",
       "         'grape': 2,\n",
       "         'dragonfruit': 1,\n",
       "         'strawberry': 1,\n",
       "         'peach': 1,\n",
       "         'watermelon': 1})"
      ]
     },
     "execution_count": 12,
     "metadata": {},
     "output_type": "execute_result"
    }
   ],
   "source": [
    "fruits | more_fruits #union: max(fruit, more_fruits)"
   ]
  },
  {
   "cell_type": "markdown",
   "metadata": {},
   "source": [
    "## 2. OrderedDict"
   ]
  },
  {
   "cell_type": "markdown",
   "metadata": {},
   "source": [
    "Given that Python’s built-in dictionary is not ordered, we use OrderedDict when there is a need to save the order in which the key-value pair was added. That is, OrderedDict remembers the exact order that items were inserted into the dictionary.\n",
    "\n",
    "For example, let’s say we want to keep track of what item a customer bought and its price in order of when it was bought that day. As shown below, the items in the dictionary maintains its order of occurrence. Each additional item gets appended to the end of the dictionary."
   ]
  },
  {
   "cell_type": "code",
   "execution_count": 14,
   "metadata": {},
   "outputs": [
    {
     "data": {
      "text/plain": [
       "OrderedDict([('fries', 10), ('banana', 1), ('cookie', 3), ('applejuice', 5)])"
      ]
     },
     "execution_count": 14,
     "metadata": {},
     "output_type": "execute_result"
    }
   ],
   "source": [
    "from collections import OrderedDict\n",
    "\n",
    "my_dict = OrderedDict()\n",
    "my_dict['fries'] =  10\n",
    "my_dict['banana'] = 1\n",
    "my_dict['cookie'] =  3\n",
    "my_dict['applejuice']= 5\n",
    "\n",
    "my_dict"
   ]
  },
  {
   "cell_type": "code",
   "execution_count": 15,
   "metadata": {},
   "outputs": [],
   "source": [
    "my_dict['grapes'] = 6"
   ]
  },
  {
   "cell_type": "code",
   "execution_count": 16,
   "metadata": {},
   "outputs": [
    {
     "data": {
      "text/plain": [
       "OrderedDict([('fries', 10),\n",
       "             ('banana', 1),\n",
       "             ('cookie', 3),\n",
       "             ('applejuice', 5),\n",
       "             ('grapes', 6)])"
      ]
     },
     "execution_count": 16,
     "metadata": {},
     "output_type": "execute_result"
    }
   ],
   "source": [
    "my_dict"
   ]
  },
  {
   "cell_type": "markdown",
   "metadata": {},
   "source": [
    "### Methods\n",
    "\n"
   ]
  },
  {
   "cell_type": "markdown",
   "metadata": {},
   "source": [
    "A) Let’s say you want to reorder some of the items in your dictionary. We can move items to the beginning or end of the dictionary."
   ]
  },
  {
   "cell_type": "code",
   "execution_count": 17,
   "metadata": {},
   "outputs": [
    {
     "data": {
      "text/plain": [
       "OrderedDict([('fries', 10),\n",
       "             ('banana', 1),\n",
       "             ('applejuice', 5),\n",
       "             ('grapes', 6),\n",
       "             ('cookie', 3)])"
      ]
     },
     "execution_count": 17,
     "metadata": {},
     "output_type": "execute_result"
    }
   ],
   "source": [
    "my_dict.move_to_end('cookie')  #move item to the very end\n",
    "my_dict"
   ]
  },
  {
   "cell_type": "code",
   "execution_count": 18,
   "metadata": {},
   "outputs": [
    {
     "data": {
      "text/plain": [
       "OrderedDict([('cookie', 3),\n",
       "             ('fries', 10),\n",
       "             ('banana', 1),\n",
       "             ('applejuice', 5),\n",
       "             ('grapes', 6)])"
      ]
     },
     "execution_count": 18,
     "metadata": {},
     "output_type": "execute_result"
    }
   ],
   "source": [
    "my_dict.move_to_end('cookie', last = False) #move item to the very beginning\n",
    "my_dict"
   ]
  },
  {
   "cell_type": "markdown",
   "metadata": {},
   "source": [
    "B) In addition, we can return and remove the (key, value) pair from either end of the dictionary."
   ]
  },
  {
   "cell_type": "code",
   "execution_count": 19,
   "metadata": {},
   "outputs": [
    {
     "data": {
      "text/plain": [
       "('cookie', 3)"
      ]
     },
     "execution_count": 19,
     "metadata": {},
     "output_type": "execute_result"
    }
   ],
   "source": [
    "my_dict.popitem(last=False) #returns and removes a (key, value) pair in FIFO order"
   ]
  },
  {
   "cell_type": "code",
   "execution_count": 20,
   "metadata": {},
   "outputs": [
    {
     "data": {
      "text/plain": [
       "('grapes', 6)"
      ]
     },
     "execution_count": 20,
     "metadata": {},
     "output_type": "execute_result"
    }
   ],
   "source": [
    "my_dict.popitem() #returns and removes a (key, value) pair in LIFO order"
   ]
  },
  {
   "cell_type": "markdown",
   "metadata": {},
   "source": [
    "## 3. defaultdict"
   ]
  },
  {
   "cell_type": "markdown",
   "metadata": {},
   "source": [
    "The defaultdict works great whenever you want to create a new dictionary entry with a default value that you specify. This avoids a KeyError issue with the built-in Python dictionary when a key is not found."
   ]
  },
  {
   "cell_type": "code",
   "execution_count": 21,
   "metadata": {},
   "outputs": [],
   "source": [
    "from collections  import defaultdict\n",
    "city_list  = [('TX', 'Austin'), ('TX', 'Houston'), ('NY', 'Albany'), ('NY', 'Syracuse'), ('NY', 'Buffalo'), ('NY', 'Rochester'), ('TX', 'Dallas'), ('CA', 'Sacramento'), ('CA', 'Palo Alto'), ('GA', 'Atlanta')]\n",
    "\n",
    "cities_by_state = defaultdict(list)\n",
    "for state, city in city_list:\n",
    "    cities_by_state[state].append(city)"
   ]
  },
  {
   "cell_type": "code",
   "execution_count": 22,
   "metadata": {},
   "outputs": [
    {
     "data": {
      "text/plain": [
       "defaultdict(list,\n",
       "            {'TX': ['Austin', 'Houston', 'Dallas'],\n",
       "             'NY': ['Albany', 'Syracuse', 'Buffalo', 'Rochester'],\n",
       "             'CA': ['Sacramento', 'Palo Alto'],\n",
       "             'GA': ['Atlanta']})"
      ]
     },
     "execution_count": 22,
     "metadata": {},
     "output_type": "execute_result"
    }
   ],
   "source": [
    "cities_by_state"
   ]
  },
  {
   "cell_type": "code",
   "execution_count": 25,
   "metadata": {},
   "outputs": [
    {
     "data": {
      "text/plain": [
       "defaultdict(list,\n",
       "            {'TX': ['Austin', 'Houston', 'Dallas'],\n",
       "             'NY': ['Albany', 'Syracuse', 'Buffalo', 'Rochester'],\n",
       "             'CA': ['Sacramento', 'Palo Alto'],\n",
       "             'GA': ['Atlanta'],\n",
       "             'MA': []})"
      ]
     },
     "execution_count": 25,
     "metadata": {},
     "output_type": "execute_result"
    }
   ],
   "source": [
    "cities_by_state['MA']  \n",
    "cities_by_state"
   ]
  },
  {
   "cell_type": "markdown",
   "metadata": {},
   "source": [
    "Here, we used an empty list as the default for our defaultdict. Each of the cities are appended as values for the states. Notice that when we called cities_by_state[‘MA’], the defaultdict create an empty list as the default because the key did not previously exist in our dictionary.\n",
    "\n",
    "What’s really amazing is that you have the ability to set your default to be anything. Below is an example with 10 as the default number for all new entries."
   ]
  },
  {
   "cell_type": "code",
   "execution_count": 26,
   "metadata": {},
   "outputs": [
    {
     "data": {
      "text/plain": [
       "defaultdict(<function __main__.<lambda>()>,\n",
       "            {'soccer': 13, 'golf': 13, 'basketball': 13})"
      ]
     },
     "execution_count": 26,
     "metadata": {},
     "output_type": "execute_result"
    }
   ],
   "source": [
    "sport_list = 'soccer golf soccer basketball basketball golf golf soccer basketball'.split()\n",
    "sport_count = defaultdict(lambda: 10) #default value is set to 10\n",
    "for sport in sport_list:\n",
    "    sport_count[sport] += 1 #incrememnt the value by 1\n",
    "\n",
    "sport_count"
   ]
  }
 ],
 "metadata": {
  "kernelspec": {
   "display_name": "Python 3",
   "language": "python",
   "name": "python3"
  },
  "language_info": {
   "codemirror_mode": {
    "name": "ipython",
    "version": 3
   },
   "file_extension": ".py",
   "mimetype": "text/x-python",
   "name": "python",
   "nbconvert_exporter": "python",
   "pygments_lexer": "ipython3",
   "version": "3.11.5"
  },
  "orig_nbformat": 4
 },
 "nbformat": 4,
 "nbformat_minor": 2
}
