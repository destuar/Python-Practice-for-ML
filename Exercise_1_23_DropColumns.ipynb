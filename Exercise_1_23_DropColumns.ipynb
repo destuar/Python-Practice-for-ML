{
 "cells": [
  {
   "cell_type": "markdown",
   "metadata": {},
   "source": [
    "Link to Medium blog post: https://parabollus.medium.com/how-to-drop-columns-from-a-pandas-dataframe-with-examples-274a39b5e025"
   ]
  },
  {
   "cell_type": "markdown",
   "metadata": {},
   "source": [
    "# How to drop columns from a Pandas DataFrame — with examples."
   ]
  },
  {
   "cell_type": "markdown",
   "metadata": {},
   "source": [
    "Import pandas and load up the CSV in a DataFrame with the function:"
   ]
  },
  {
   "cell_type": "code",
   "execution_count": 2,
   "metadata": {},
   "outputs": [
    {
     "data": {
      "text/plain": [
       "'>>> import pandas as pd\\nstats = pd.read_csv(‘/home/joshua/Practice Data/Fitness_DB_Data/aug_stats.csv’, delimiter=’,’)\\nstats.head()\\nday_walked cal_burned miles_walked duration mph additional_weight weight_amount trekking_poles shoe_id trail_id\\n0 2018–08–01 336.1 3.37 01:01:48 3.3 true 1.5 true 4 7\\n1 2018–08–02 355.3 3.70 01:15:14 3.0 false 0.0 false 4 4\\n2 2018–08–03 259.9 2.57 00:47:47 3.2 true 1.5 true 4 7\\n3 2018–08–05 341.2 3.37 01:02:44 3.2 true 1.5 true 4 7\\n4 2018–08–06 357.7 3.64 01:05:46 3.3 true 1.5 true 4 7'"
      ]
     },
     "execution_count": 2,
     "metadata": {},
     "output_type": "execute_result"
    }
   ],
   "source": [
    "'''>>> import pandas as pd\n",
    ">>> stats = pd.read_csv(‘/home/joshua/Practice Data/Fitness_DB_Data/aug_stats.csv’, delimiter=’,’)\n",
    ">>> stats.head()\n",
    "day_walked cal_burned miles_walked duration mph additional_weight weight_amount trekking_poles shoe_id trail_id\n",
    "0 2018–08–01 336.1 3.37 01:01:48 3.3 true 1.5 true 4 7\n",
    "1 2018–08–02 355.3 3.70 01:15:14 3.0 false 0.0 false 4 4\n",
    "2 2018–08–03 259.9 2.57 00:47:47 3.2 true 1.5 true 4 7\n",
    "3 2018–08–05 341.2 3.37 01:02:44 3.2 true 1.5 true 4 7\n",
    "4 2018–08–06 357.7 3.64 01:05:46 3.3 true 1.5 true 4 7'''"
   ]
  },
  {
   "cell_type": "markdown",
   "metadata": {},
   "source": [
    "Although the columns are clearly visible via the output from the head()function, pandas DataFrames do have a column attribute available you can access to see a list of them as well:"
   ]
  },
  {
   "cell_type": "code",
   "execution_count": 3,
   "metadata": {},
   "outputs": [
    {
     "data": {
      "text/plain": [
       "'>>> stats.columns\\nIndex([‘day_walked’, ‘cal_burned’, ‘miles_walked’, ‘duration’, ‘mph’,\\n ‘additional_weight’, ‘weight_amount’, ‘trekking_poles’, ‘shoe_id’,\\n ‘trail_id’],\\n dtype=’object’)'"
      ]
     },
     "execution_count": 3,
     "metadata": {},
     "output_type": "execute_result"
    }
   ],
   "source": [
    "'''>>> stats.columns\n",
    "Index([‘day_walked’, ‘cal_burned’, ‘miles_walked’, ‘duration’, ‘mph’,\n",
    " ‘additional_weight’, ‘weight_amount’, ‘trekking_poles’, ‘shoe_id’,\n",
    " ‘trail_id’],\n",
    " dtype=’object’)'''"
   ]
  },
  {
   "cell_type": "markdown",
   "metadata": {},
   "source": [
    "Dropping a column is as simple as just specifying the column(s) to remove as a parameter to drop():"
   ]
  },
  {
   "cell_type": "code",
   "execution_count": 4,
   "metadata": {},
   "outputs": [
    {
     "data": {
      "text/plain": [
       "'>>> stats.drop([‘additional_weight’], axis=1)\\n day_walked cal_burned miles_walked duration mph weight_amount trekking_poles shoe_id trail_id\\n0 2018–08–01 336.1 3.37 01:01:48 3.3 1.5 True 4 7\\n1 2018–08–02 355.3 3.70 01:15:14 3.0 0.0 False 4 4\\n2 2018–08–03 259.9 2.57 00:47:47 3.2 1.5 True 4 7\\n3 2018–08–05 341.2 3.37 01:02:44 3.2 1.5 True 4 7\\n4 2018–08–06 357.7 3.64 01:05:46 3.3 1.5 True 4 7\\n5 2018–08–17 184.2 1.89 00:39:00 2.9 0.0 False 4 2\\n6 2018–08–18 242.9 2.53 00:51:25 3.0 0.0 False 4 2\\n7 2018–08–30 204.4 1.95 00:37:35 3.1 0.0 False 4 5'"
      ]
     },
     "execution_count": 4,
     "metadata": {},
     "output_type": "execute_result"
    }
   ],
   "source": [
    "'''>>> stats.drop([‘additional_weight’], axis=1)\n",
    " day_walked cal_burned miles_walked duration mph weight_amount trekking_poles shoe_id trail_id\n",
    "0 2018–08–01 336.1 3.37 01:01:48 3.3 1.5 True 4 7\n",
    "1 2018–08–02 355.3 3.70 01:15:14 3.0 0.0 False 4 4\n",
    "2 2018–08–03 259.9 2.57 00:47:47 3.2 1.5 True 4 7\n",
    "3 2018–08–05 341.2 3.37 01:02:44 3.2 1.5 True 4 7\n",
    "4 2018–08–06 357.7 3.64 01:05:46 3.3 1.5 True 4 7\n",
    "5 2018–08–17 184.2 1.89 00:39:00 2.9 0.0 False 4 2\n",
    "6 2018–08–18 242.9 2.53 00:51:25 3.0 0.0 False 4 2\n",
    "7 2018–08–30 204.4 1.95 00:37:35 3.1 0.0 False 4 5'''"
   ]
  },
  {
   "cell_type": "markdown",
   "metadata": {},
   "source": [
    "However, do not ignore the axis parameter. Check out what the DataFrame.drop() documentation says about it, along with acceptable values for it:"
   ]
  },
  {
   "cell_type": "code",
   "execution_count": 5,
   "metadata": {},
   "outputs": [
    {
     "data": {
      "text/plain": [
       "'axis : {0 or ‘index’, 1 or ‘columns’}, default 0\\nWhether to drop labels from the index (0 or ‘index’) or columns (1 or ‘columns’).'"
      ]
     },
     "execution_count": 5,
     "metadata": {},
     "output_type": "execute_result"
    }
   ],
   "source": [
    "'''axis : {0 or ‘index’, 1 or ‘columns’}, default 0\n",
    "Whether to drop labels from the index (0 or ‘index’) or columns (1 or ‘columns’).'''"
   ]
  },
  {
   "cell_type": "markdown",
   "metadata": {},
   "source": [
    "So the ‘additional_weight’ column is gone now…"
   ]
  },
  {
   "cell_type": "code",
   "execution_count": 6,
   "metadata": {},
   "outputs": [
    {
     "data": {
      "text/plain": [
       "'>>> stats.head()\\nday_walked cal_burned miles_walked duration mph additional_weight weight_amount trekking_poles shoe_id trail_id\\n0 2018–08–01 336.1 3.37 01:01:48 3.3 True 1.5 True 4 7\\n1 2018–08–02 355.3 3.70 01:15:14 3.0 False 0.0 False 4 4\\n2 2018–08–03 259.9 2.57 00:47:47 3.2 True 1.5 True 4 7\\n3 2018–08–05 341.2 3.37 01:02:44 3.2 True 1.5 True 4 7\\n4 2018–08–06 357.7 3.64 01:05:46 3.3 True 1.5 True 4 7'"
      ]
     },
     "execution_count": 6,
     "metadata": {},
     "output_type": "execute_result"
    }
   ],
   "source": [
    "'''>>> stats.head()\n",
    "day_walked cal_burned miles_walked duration mph additional_weight weight_amount trekking_poles shoe_id trail_id\n",
    "0 2018–08–01 336.1 3.37 01:01:48 3.3 True 1.5 True 4 7\n",
    "1 2018–08–02 355.3 3.70 01:15:14 3.0 False 0.0 False 4 4\n",
    "2 2018–08–03 259.9 2.57 00:47:47 3.2 True 1.5 True 4 7\n",
    "3 2018–08–05 341.2 3.37 01:02:44 3.2 True 1.5 True 4 7\n",
    "4 2018–08–06 357.7 3.64 01:05:46 3.3 True 1.5 True 4 7'''"
   ]
  },
  {
   "cell_type": "markdown",
   "metadata": {},
   "source": [
    "Unless we reassign the current DataFrame object to another one, to see these changes, we must use the inplace=True parameter:"
   ]
  },
  {
   "cell_type": "code",
   "execution_count": 7,
   "metadata": {},
   "outputs": [
    {
     "data": {
      "text/plain": [
       "'>>> stats.drop([‘weight_amount’], axis=1, inplace=True)\\nstats.head()\\nday_walked cal_burned miles_walked duration mph weight_amount trekking_poles shoe_id trail_id\\n0 2018–08–01 336.1 3.37 01:01:48 3.3 1.5 True 4 7\\n1 2018–08–02 355.3 3.70 01:15:14 3.0 0.0 False 4 4\\n2 2018–08–03 259.9 2.57 00:47:47 3.2 1.5 True 4 7\\n3 2018–08–05 341.2 3.37 01:02:44 3.2 1.5 True 4 7\\n4 2018–08–06 357.7 3.64 01:05:46 3.3 1.5 True 4 7\\n'"
      ]
     },
     "execution_count": 7,
     "metadata": {},
     "output_type": "execute_result"
    }
   ],
   "source": [
    "'''>>> stats.drop([‘weight_amount’], axis=1, inplace=True)\n",
    ">>> stats.head()\n",
    "day_walked cal_burned miles_walked duration mph weight_amount trekking_poles shoe_id trail_id\n",
    "0 2018–08–01 336.1 3.37 01:01:48 3.3 1.5 True 4 7\n",
    "1 2018–08–02 355.3 3.70 01:15:14 3.0 0.0 False 4 4\n",
    "2 2018–08–03 259.9 2.57 00:47:47 3.2 1.5 True 4 7\n",
    "3 2018–08–05 341.2 3.37 01:02:44 3.2 1.5 True 4 7\n",
    "4 2018–08–06 357.7 3.64 01:05:46 3.3 1.5 True 4 7\n",
    "'''"
   ]
  },
  {
   "cell_type": "markdown",
   "metadata": {},
   "source": [
    "Need to drop multiple columns? No problem. Just supply them in a list and it’s a done deal:\n",
    "\n"
   ]
  },
  {
   "cell_type": "code",
   "execution_count": 8,
   "metadata": {},
   "outputs": [
    {
     "data": {
      "text/plain": [
       "'>>> stats.drop([‘weight_amount’, ‘trekking_poles’], axis=1, inplace=True)\\nstats.head()\\nday_walked cal_burned miles_walked duration mph shoe_id trail_id\\n0 2018–08–01 336.1 3.37 01:01:48 3.3 4 7\\n1 2018–08–02 355.3 3.70 01:15:14 3.0 4 4\\n2 2018–08–03 259.9 2.57 00:47:47 3.2 4 7\\n3 2018–08–05 341.2 3.37 01:02:44 3.2 4 7\\n4 2018–08–06 357.7 3.64 01:05:46 3.3 4 7'"
      ]
     },
     "execution_count": 8,
     "metadata": {},
     "output_type": "execute_result"
    }
   ],
   "source": [
    "'''>>> stats.drop([‘weight_amount’, ‘trekking_poles’], axis=1, inplace=True)\n",
    ">>> stats.head()\n",
    "day_walked cal_burned miles_walked duration mph shoe_id trail_id\n",
    "0 2018–08–01 336.1 3.37 01:01:48 3.3 4 7\n",
    "1 2018–08–02 355.3 3.70 01:15:14 3.0 4 4\n",
    "2 2018–08–03 259.9 2.57 00:47:47 3.2 4 7\n",
    "3 2018–08–05 341.2 3.37 01:02:44 3.2 4 7\n",
    "4 2018–08–06 357.7 3.64 01:05:46 3.3 4 7'''"
   ]
  }
 ],
 "metadata": {
  "kernelspec": {
   "display_name": "Python 3",
   "language": "python",
   "name": "python3"
  },
  "language_info": {
   "codemirror_mode": {
    "name": "ipython",
    "version": 3
   },
   "file_extension": ".py",
   "mimetype": "text/x-python",
   "name": "python",
   "nbconvert_exporter": "python",
   "pygments_lexer": "ipython3",
   "version": "3.11.5"
  },
  "orig_nbformat": 4
 },
 "nbformat": 4,
 "nbformat_minor": 2
}
