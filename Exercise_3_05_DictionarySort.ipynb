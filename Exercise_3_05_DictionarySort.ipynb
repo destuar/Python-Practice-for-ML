{
 "cells": [
  {
   "cell_type": "markdown",
   "metadata": {},
   "source": [
    "Link to Medium blog post: https://blog.devgenius.io/5-different-ways-to-sort-python-dictionary-e20274fdf304"
   ]
  },
  {
   "cell_type": "markdown",
   "metadata": {},
   "source": [
    "# 5 Different Ways to Sort Python Dictionary"
   ]
  },
  {
   "cell_type": "markdown",
   "metadata": {},
   "source": [
    "## 1. Using sorted() function"
   ]
  },
  {
   "cell_type": "markdown",
   "metadata": {},
   "source": [
    "sorted() function is used to sort an iterable like a dictionary but it will return a sorted list."
   ]
  },
  {
   "cell_type": "markdown",
   "metadata": {},
   "source": [
    "### Example 1: Sorting the dictionary"
   ]
  },
  {
   "cell_type": "markdown",
   "metadata": {},
   "source": [
    "sorted(d1.items()) → d1.items() will sort the dictionary based on keys and will return list of tuples containing key-value pair"
   ]
  },
  {
   "cell_type": "code",
   "execution_count": 1,
   "metadata": {},
   "outputs": [
    {
     "data": {
      "text/plain": [
       "[('apple', 2), ('banana', 3), ('cherry', 1)]"
      ]
     },
     "execution_count": 1,
     "metadata": {},
     "output_type": "execute_result"
    }
   ],
   "source": [
    "d1={'cherry':1,'apple':2,'banana':3}\n",
    "sorted(d1.items())\n",
    "#Output:[('apple', 2), ('banana', 3), ('cherry', 1)]"
   ]
  },
  {
   "cell_type": "markdown",
   "metadata": {},
   "source": [
    "### Example 2: Sorting the keys in the dictionary"
   ]
  },
  {
   "cell_type": "markdown",
   "metadata": {},
   "source": [
    "sorted(d1.keys()) → It will sort the dictionary keys alone and return a list of sorted keys."
   ]
  },
  {
   "cell_type": "code",
   "execution_count": 2,
   "metadata": {},
   "outputs": [
    {
     "data": {
      "text/plain": [
       "['apple', 'banana', 'cherry']"
      ]
     },
     "execution_count": 2,
     "metadata": {},
     "output_type": "execute_result"
    }
   ],
   "source": [
    "d1={'cherry':1,'apple':2,'banana':3}\n",
    "sorted(d1.keys())\n",
    "#Output:['apple', 'banana', 'cherry']"
   ]
  },
  {
   "cell_type": "markdown",
   "metadata": {},
   "source": [
    "### Example 3: Sorting the values in the dictionary"
   ]
  },
  {
   "cell_type": "markdown",
   "metadata": {},
   "source": [
    "sorted(d1.values()) →It will sort the dictionary values alone and return a list of dictionary values."
   ]
  },
  {
   "cell_type": "code",
   "execution_count": 3,
   "metadata": {},
   "outputs": [
    {
     "data": {
      "text/plain": [
       "[1, 2, 3]"
      ]
     },
     "execution_count": 3,
     "metadata": {},
     "output_type": "execute_result"
    }
   ],
   "source": [
    "d1={'cherry':1,'apple':2,'banana':3}\n",
    "sorted(d1.values())\n",
    "#Output:[1,2,3]"
   ]
  },
  {
   "cell_type": "markdown",
   "metadata": {},
   "source": [
    "## 2. Sorting using reverse parameter"
   ]
  },
  {
   "cell_type": "markdown",
   "metadata": {},
   "source": [
    "To sort the dictionary in reverse order (descending order), the reverse parameter is set to True.\n",
    "\n"
   ]
  },
  {
   "cell_type": "markdown",
   "metadata": {},
   "source": [
    "### Example 1: Sorting dictionary in reverse order"
   ]
  },
  {
   "cell_type": "markdown",
   "metadata": {},
   "source": [
    "By default, if we set reverse=True, then it will sort based on dictionary keys in the reverse order(descending order)"
   ]
  },
  {
   "cell_type": "code",
   "execution_count": 4,
   "metadata": {},
   "outputs": [
    {
     "data": {
      "text/plain": [
       "[('cherry', 1), ('banana', 3), ('apple', 2)]"
      ]
     },
     "execution_count": 4,
     "metadata": {},
     "output_type": "execute_result"
    }
   ],
   "source": [
    "d1={'cherry':1,'apple':2,'banana':3}\n",
    "sorted(d1.items(),reverse=True)\n",
    "#Output: [('cherry', 1), ('banana', 3), ('apple', 2)]"
   ]
  },
  {
   "cell_type": "markdown",
   "metadata": {},
   "source": [
    "### Example 2: Sorting dictionary keys in reverse order"
   ]
  },
  {
   "cell_type": "code",
   "execution_count": 5,
   "metadata": {},
   "outputs": [
    {
     "data": {
      "text/plain": [
       "['cherry', 'banana', 'apple']"
      ]
     },
     "execution_count": 5,
     "metadata": {},
     "output_type": "execute_result"
    }
   ],
   "source": [
    "d1={'cherry':1,'apple':2,'banana':3}\n",
    "sorted(d1.keys(),reverse=True)\n",
    "#Output:['cherry', 'banana', 'apple']"
   ]
  },
  {
   "cell_type": "markdown",
   "metadata": {},
   "source": [
    "### Example 3: Sorting dictionary values in reverse order."
   ]
  },
  {
   "cell_type": "code",
   "execution_count": 6,
   "metadata": {},
   "outputs": [
    {
     "data": {
      "text/plain": [
       "[3, 2, 1]"
      ]
     },
     "execution_count": 6,
     "metadata": {},
     "output_type": "execute_result"
    }
   ],
   "source": [
    "d1={'cherry':1,'apple':2,'banana':3}\n",
    "sorted(d1.values(),reverse=True)\n",
    "#Output:[3,2,1]"
   ]
  },
  {
   "cell_type": "markdown",
   "metadata": {},
   "source": [
    "## 3. Sorting using the key parameter"
   ]
  },
  {
   "cell_type": "markdown",
   "metadata": {},
   "source": [
    "By default, the sorted() function will sort the dictionary based on keys. If we want to sort the dictionary based on values or any other parameter, then the “key” parameter is set."
   ]
  },
  {
   "cell_type": "markdown",
   "metadata": {},
   "source": [
    "### Example 1: Sorting the dictionary based on values."
   ]
  },
  {
   "cell_type": "markdown",
   "metadata": {},
   "source": [
    "sorted(d1.items(),key=lambda x:x[1]) → Here key parameter is set as lambda function which will take the first index (values). The dictionary will be sorted based on values."
   ]
  },
  {
   "cell_type": "code",
   "execution_count": 7,
   "metadata": {},
   "outputs": [
    {
     "data": {
      "text/plain": [
       "[('cherry', 1), ('banana', 3), ('apple', 12)]"
      ]
     },
     "execution_count": 7,
     "metadata": {},
     "output_type": "execute_result"
    }
   ],
   "source": [
    "d1={'cherry':1,'apple':12,'banana':3}\n",
    "sorted(d1.items(),key=lambda x:x[1])\n",
    "#Output:[('cherry', 1), ('banana', 3), ('apple', 12)]"
   ]
  },
  {
   "cell_type": "markdown",
   "metadata": {},
   "source": [
    "### Example 2: Sorting dictionary based on length of keys."
   ]
  },
  {
   "cell_type": "markdown",
   "metadata": {},
   "source": [
    "sorted(d1.items(),key=lambda x: len(x[0])) → Here key parameter is set as a lambda function, which will take the length of keys and sort it."
   ]
  },
  {
   "cell_type": "code",
   "execution_count": 8,
   "metadata": {},
   "outputs": [
    {
     "data": {
      "text/plain": [
       "[('apple', 2), ('cherry', 1), ('banana', 3)]"
      ]
     },
     "execution_count": 8,
     "metadata": {},
     "output_type": "execute_result"
    }
   ],
   "source": [
    "d1={'cherry':1,'apple':2,'banana':3} \n",
    "sorted(d1.items(),key=lambda x: len(x[0]))\n",
    "#Output:[('apple', 2), ('cherry', 1), ('banana', 3)]"
   ]
  },
  {
   "cell_type": "markdown",
   "metadata": {},
   "source": [
    "## 4. Using sorted function in a dictionary comprehension"
   ]
  },
  {
   "cell_type": "markdown",
   "metadata": {},
   "source": [
    "Till now, the sorted function returns a list. If the sorted() function is used inside dictionary comprehension, it will return a sorted dictionary.\n",
    "\n"
   ]
  },
  {
   "cell_type": "markdown",
   "metadata": {},
   "source": [
    "### Example 1: Sorting dictionary based on keys and returns a sorted dictionary."
   ]
  },
  {
   "cell_type": "markdown",
   "metadata": {},
   "source": [
    "sort_keys={k:v for k,v in sorted(d1.items())} → Looping through key-value pairs (items) in the dictionary and sort it based on keys and return a sorted dictionary k:v"
   ]
  },
  {
   "cell_type": "code",
   "execution_count": 9,
   "metadata": {},
   "outputs": [
    {
     "name": "stdout",
     "output_type": "stream",
     "text": [
      "{'apple': 2, 'banana': 3, 'cherry': 1}\n"
     ]
    }
   ],
   "source": [
    "d1={'cherry':1,'apple':2,'banana':3}\n",
    "#by default, sorted function, will sort based on keys.\n",
    "sort_keys={k:v for k,v in sorted(d1.items())}\n",
    "print(sort_keys)\n",
    "#Output:{'apple': 2, 'banana': 3, 'cherry': 1}"
   ]
  },
  {
   "cell_type": "markdown",
   "metadata": {},
   "source": [
    "### Example 2: Sorting dictionary based on values and returns a sorted dictionary"
   ]
  },
  {
   "cell_type": "code",
   "execution_count": 10,
   "metadata": {},
   "outputs": [
    {
     "name": "stdout",
     "output_type": "stream",
     "text": [
      "{'cherry': 1, 'banana': 3, 'apple': 12}\n"
     ]
    }
   ],
   "source": [
    "d1={'cherry':1,'apple':12,'banana':3}\n",
    "#key parameter is given as second element which is dict values\n",
    "sort_values={k:v for k,v in sorted(d1.items(),key=lambda x:x[1])}\n",
    "print (sort_values)\n",
    "#Output:{'cherry': 1, 'banana': 3, 'apple': 12}\n"
   ]
  },
  {
   "cell_type": "markdown",
   "metadata": {},
   "source": [
    "## 5. Using Counter"
   ]
  },
  {
   "cell_type": "markdown",
   "metadata": {},
   "source": [
    "most_common() → sort the dictionary\n",
    "\n",
    "If we create a Counter object, then the most_common() function will sort it based on values in descending order and will return a list of tuples."
   ]
  },
  {
   "cell_type": "code",
   "execution_count": 11,
   "metadata": {},
   "outputs": [
    {
     "name": "stdout",
     "output_type": "stream",
     "text": [
      "Counter({'apple': 12, 'banana': 3, 'cherry': 1})\n",
      "[('apple', 12), ('banana', 3), ('cherry', 1)]\n"
     ]
    }
   ],
   "source": [
    "from collections import Counter\n",
    "d1={'cherry':1,'apple':12,'banana':3}\n",
    "print(Counter(d1))\n",
    "#Output:Counter({'apple': 12, 'banana': 3, 'cherry': 1})\n",
    "c=Counter(d1)\n",
    "print(c.most_common())\n",
    "#Output: [('apple', 12), ('banana', 3), ('cherry', 1)]"
   ]
  }
 ],
 "metadata": {
  "kernelspec": {
   "display_name": "Python 3",
   "language": "python",
   "name": "python3"
  },
  "language_info": {
   "codemirror_mode": {
    "name": "ipython",
    "version": 3
   },
   "file_extension": ".py",
   "mimetype": "text/x-python",
   "name": "python",
   "nbconvert_exporter": "python",
   "pygments_lexer": "ipython3",
   "version": "3.11.5"
  },
  "orig_nbformat": 4
 },
 "nbformat": 4,
 "nbformat_minor": 2
}
