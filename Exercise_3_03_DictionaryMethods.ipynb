{
 "cells": [
  {
   "cell_type": "markdown",
   "metadata": {},
   "source": [
    "https://medium.matcha.fyi/every-python-dictionary-method-explained-simply-90e0d7f18c04\n",
    "Link to Medium blog post: "
   ]
  },
  {
   "cell_type": "markdown",
   "metadata": {},
   "source": [
    "# Every Python Dictionary Method Explained Simply"
   ]
  },
  {
   "cell_type": "markdown",
   "metadata": {},
   "source": [
    "## Combining dictionaries"
   ]
  },
  {
   "cell_type": "markdown",
   "metadata": {},
   "source": [
    "To combine two dictionaries, use a leading ** and then add them to a dictionary. Here is an example:"
   ]
  },
  {
   "cell_type": "code",
   "execution_count": 1,
   "metadata": {},
   "outputs": [
    {
     "name": "stdout",
     "output_type": "stream",
     "text": [
      "{'a': 1, 'b': 2}\n"
     ]
    }
   ],
   "source": [
    "a = {'a':1}\n",
    "b = {'b':2}\n",
    "c = {**a, **b}\n",
    "print(c)\n",
    "# this will return:\n",
    "# {'a': 1, 'b': 2}"
   ]
  },
  {
   "cell_type": "markdown",
   "metadata": {},
   "source": [
    "## dict.clear()\n"
   ]
  },
  {
   "cell_type": "markdown",
   "metadata": {},
   "source": [
    "To remove all items inside a Python dictionary, use clear()"
   ]
  },
  {
   "cell_type": "code",
   "execution_count": 2,
   "metadata": {},
   "outputs": [
    {
     "name": "stdout",
     "output_type": "stream",
     "text": [
      "None\n"
     ]
    }
   ],
   "source": [
    "pythondictionary = { \"a\":1, \"b\":2, \"c\":3 }\n",
    "print(pythondictionary.clear())\n",
    "# this will return:\n",
    "# None"
   ]
  },
  {
   "cell_type": "markdown",
   "metadata": {},
   "source": [
    "##  dict.copy()"
   ]
  },
  {
   "cell_type": "markdown",
   "metadata": {},
   "source": [
    "copy() will create a shallow copy of the original dictionary."
   ]
  },
  {
   "cell_type": "code",
   "execution_count": 3,
   "metadata": {},
   "outputs": [
    {
     "name": "stdout",
     "output_type": "stream",
     "text": [
      "{'a': 1, 'b': 2, 'c': 3}\n"
     ]
    }
   ],
   "source": [
    "pythondictionary = { \"a\":1, \"b\":2, \"c\":3 }\n",
    "c = pythondictionary.copy()\n",
    "print(c)\n",
    "# this will return: \n",
    "# { \"a\":1, \"b\":2, \"c\":3 }"
   ]
  },
  {
   "cell_type": "markdown",
   "metadata": {},
   "source": [
    "## dict.fromkeys()"
   ]
  },
  {
   "cell_type": "markdown",
   "metadata": {},
   "source": [
    "fromkeys() lets you create a dictionary from a set of keys stored in a list or tuple. For example:"
   ]
  },
  {
   "cell_type": "code",
   "execution_count": 5,
   "metadata": {},
   "outputs": [
    {
     "name": "stdout",
     "output_type": "stream",
     "text": [
      "{'a': [1, 2, 3], 'b': [1, 2, 3], 'c': [1, 2, 3]}\n"
     ]
    }
   ],
   "source": [
    "keys = (\"a\", \"b\", \"c\")\n",
    "value = [1,  2, 3]\n",
    "d = dict.fromkeys(keys, value)\n",
    "print(d)\n",
    "# this will return:\n",
    "# {'a': [1, 2, 3], 'b': [1, 2, 3], 'c': [1, 2, 3]}"
   ]
  },
  {
   "cell_type": "markdown",
   "metadata": {},
   "source": [
    "## dict.get()"
   ]
  },
  {
   "cell_type": "markdown",
   "metadata": {},
   "source": [
    "You can access dictionary attributes with [] like this:"
   ]
  },
  {
   "cell_type": "code",
   "execution_count": 6,
   "metadata": {},
   "outputs": [
    {
     "name": "stdout",
     "output_type": "stream",
     "text": [
      "1\n"
     ]
    }
   ],
   "source": [
    "d = { \"a\":1, \"b\":2, \"c\":3 }\n",
    "print(d[\"a\"])\n",
    "# this will return:\n",
    "# 1"
   ]
  },
  {
   "cell_type": "markdown",
   "metadata": {},
   "source": [
    "However, the safest way to access attributes in a Python dictionary is through using the get() function. This makes the action explicit. If the attribute doesn’t exist, it will return None. If you used [] instead of get() and the value doesn’t exist, you will get a KeyError instead."
   ]
  },
  {
   "cell_type": "code",
   "execution_count": 7,
   "metadata": {},
   "outputs": [
    {
     "name": "stdout",
     "output_type": "stream",
     "text": [
      "1\n"
     ]
    }
   ],
   "source": [
    "d = { \"a\":1, \"b\":2, \"c\":3 }\n",
    "print(d.get(\"a\"))\n",
    "# this will return:\n",
    "# 1"
   ]
  },
  {
   "cell_type": "markdown",
   "metadata": {},
   "source": [
    "If you want to get an attribute but not sure if it exists or not, you can also assign your own error value to something like undefined with get(). Here is an example:"
   ]
  },
  {
   "cell_type": "code",
   "execution_count": 9,
   "metadata": {},
   "outputs": [
    {
     "name": "stdout",
     "output_type": "stream",
     "text": [
      "undefined\n"
     ]
    }
   ],
   "source": [
    "d = { \"a\":1, \"b\":2, \"c\":3 }\n",
    "print(d.get(\"f\", \"undefined\"))\n",
    "# this will return:\n",
    "# undefined"
   ]
  },
  {
   "cell_type": "markdown",
   "metadata": {},
   "source": [
    "## dict.items()"
   ]
  },
  {
   "cell_type": "markdown",
   "metadata": {},
   "source": [
    "item() will return a dictionary’s key and value pairs as a list of tuples. Here is an example:\n",
    "\n"
   ]
  },
  {
   "cell_type": "code",
   "execution_count": 10,
   "metadata": {},
   "outputs": [
    {
     "name": "stdout",
     "output_type": "stream",
     "text": [
      "dict_items([('make', 'Mitsubishi'), ('model', 'Lancer'), ('year', 2007), ('color', 'silver')])\n"
     ]
    }
   ],
   "source": [
    "car = {\n",
    "  \"make\":\"Mitsubishi\", \n",
    "  \"model\":\"Lancer\", \n",
    "  \"year\":2007, \n",
    "  \"color\":\"silver\"\n",
    "}\n",
    "result = car.items()\n",
    "print(result)\n",
    "# this will return:\n",
    "# dict_items([('make', 'Mitsubishi'), ('model', 'Lancer'), ('year', 2007), ('color', 'silver')])"
   ]
  },
  {
   "cell_type": "markdown",
   "metadata": {},
   "source": [
    "Now you can iterate over the results with a loop like this:"
   ]
  },
  {
   "cell_type": "code",
   "execution_count": 11,
   "metadata": {},
   "outputs": [
    {
     "name": "stdout",
     "output_type": "stream",
     "text": [
      "('make', 'Mitsubishi')\n",
      "('model', 'Lancer')\n",
      "('year', 2007)\n",
      "('color', 'silver')\n"
     ]
    }
   ],
   "source": [
    "for item in result:\n",
    "  print(item)\n",
    "# this will return:\n",
    "# ('make', 'Mitsubishi')\n",
    "# ('model', 'Lancer')\n",
    "# ('year', 2007)\n",
    "# ('color', 'silver')"
   ]
  },
  {
   "cell_type": "markdown",
   "metadata": {},
   "source": [
    "## dict.keys()"
   ]
  },
  {
   "cell_type": "markdown",
   "metadata": {},
   "source": [
    "Use keys() if you only need the keys inside a dictionary. For example:"
   ]
  },
  {
   "cell_type": "code",
   "execution_count": 12,
   "metadata": {},
   "outputs": [
    {
     "name": "stdout",
     "output_type": "stream",
     "text": [
      "make\n",
      "model\n",
      "year\n",
      "color\n"
     ]
    }
   ],
   "source": [
    "car = {\n",
    "  \"make\":\"Mitsubishi\", \n",
    "  \"model\":\"Lancer\", \n",
    "  \"year\":2007, \n",
    "  \"color\":\"silver\"\n",
    "}\n",
    "for key in car.keys():\n",
    "   print(key)\n",
    "# this will return:\n",
    "# make\n",
    "# model\n",
    "# year\n",
    "# color"
   ]
  },
  {
   "cell_type": "markdown",
   "metadata": {},
   "source": [
    "## dict.values()"
   ]
  },
  {
   "cell_type": "markdown",
   "metadata": {},
   "source": [
    "To only access the values inside a dictionary, use values(). For example:"
   ]
  },
  {
   "cell_type": "code",
   "execution_count": 13,
   "metadata": {},
   "outputs": [
    {
     "name": "stdout",
     "output_type": "stream",
     "text": [
      "Mitsubishi\n",
      "Lancer\n",
      "2007\n",
      "silver\n"
     ]
    }
   ],
   "source": [
    "car = {\n",
    "  \"make\":\"Mitsubishi\", \n",
    "  \"model\":\"Lancer\", \n",
    "  \"year\":2007, \n",
    "  \"color\":\"silver\"\n",
    "}\n",
    "for value in car.values():\n",
    "   print(value)\n",
    "# this will return:\n",
    "# Mitsubishi\n",
    "# Lancer\n",
    "# 2007\n",
    "# silver"
   ]
  },
  {
   "cell_type": "markdown",
   "metadata": {},
   "source": [
    "##  dict.pop()"
   ]
  },
  {
   "cell_type": "markdown",
   "metadata": {},
   "source": [
    "If you want to remove a specific item from a dictionary based on key name, you can use pop(). For example:"
   ]
  },
  {
   "cell_type": "code",
   "execution_count": 14,
   "metadata": {},
   "outputs": [
    {
     "name": "stdout",
     "output_type": "stream",
     "text": [
      "{'make': 'Mitsubishi', 'model': 'Lancer', 'color': 'silver'}\n"
     ]
    }
   ],
   "source": [
    "car = {\n",
    "  \"make\":\"Mitsubishi\", \n",
    "  \"model\":\"Lancer\", \n",
    "  \"year\":2007, \n",
    "  \"color\":\"silver\"\n",
    "}\n",
    "car.pop(\"year\")\n",
    "print(car)\n",
    "# this will return:\n",
    "# {'make': 'Mitsubishi', 'model': 'Lancer', 'color': 'silver'}\n"
   ]
  },
  {
   "cell_type": "markdown",
   "metadata": {},
   "source": [
    "## dict.popitem()"
   ]
  },
  {
   "cell_type": "markdown",
   "metadata": {},
   "source": [
    "To remove the last item in the dictionary, use popitem(). For example:"
   ]
  },
  {
   "cell_type": "code",
   "execution_count": 15,
   "metadata": {},
   "outputs": [
    {
     "name": "stdout",
     "output_type": "stream",
     "text": [
      "{'make': 'Mitsubishi', 'model': 'Lancer', 'year': 2007}\n"
     ]
    }
   ],
   "source": [
    "car = {\n",
    "  \"make\":\"Mitsubishi\", \n",
    "  \"model\":\"Lancer\", \n",
    "  \"year\":2007, \n",
    "  \"color\":\"silver\"\n",
    "}\n",
    "car.popitem()\n",
    "# this will return:\n",
    "# ('color', 'silver')\n",
    "print(car)\n",
    "# this will return:\n",
    "# {'make': 'Mitsubishi', 'model': 'Lancer', 'year': 2007}"
   ]
  },
  {
   "cell_type": "markdown",
   "metadata": {},
   "source": [
    "## dict.setdefault()"
   ]
  },
  {
   "cell_type": "markdown",
   "metadata": {},
   "source": [
    "If a key doesn’t exist, it returns None by default. However, you can set the return value through setdefault(). For example:"
   ]
  },
  {
   "cell_type": "code",
   "execution_count": 16,
   "metadata": {},
   "outputs": [
    {
     "name": "stdout",
     "output_type": "stream",
     "text": [
      "undefined\n",
      "Lancer\n"
     ]
    }
   ],
   "source": [
    "car = {\n",
    "  \"make\":\"Mitsubishi\", \n",
    "  \"model\":\"Lancer\", \n",
    "  \"year\":2007, \n",
    "  \"color\":\"silver\"\n",
    "}\n",
    "print(car.setdefault(\"origin\", \"undefined\"))\n",
    "print(car.setdefault(\"model\", \"undefined\"))\n",
    "# this will return:\n",
    "# undefined\n",
    "# followed by (because the key exists):\n",
    "# Lancer"
   ]
  },
  {
   "cell_type": "markdown",
   "metadata": {},
   "source": [
    "## dict.update()"
   ]
  },
  {
   "cell_type": "markdown",
   "metadata": {},
   "source": [
    "To insert an item into a dictionary, use update(). For example:"
   ]
  },
  {
   "cell_type": "code",
   "execution_count": 17,
   "metadata": {},
   "outputs": [
    {
     "name": "stdout",
     "output_type": "stream",
     "text": [
      "{'make': 'Mitsubishi', 'model': 'Lancer', 'year': 2007, 'color': 'silver', 'origin': 'Japan'}\n"
     ]
    }
   ],
   "source": [
    "car = {\n",
    "  \"make\":\"Mitsubishi\", \n",
    "  \"model\":\"Lancer\", \n",
    "  \"year\":2007, \n",
    "  \"color\":\"silver\"\n",
    "}\n",
    "car.update({\"origin\":\"Japan\"})\n",
    "print(car)\n",
    "# this will return:\n",
    "# {'make': 'Mitsubishi', 'model': 'Lancer', 'year': 2007, 'origin': 'Japan'}"
   ]
  }
 ],
 "metadata": {
  "kernelspec": {
   "display_name": "Python 3",
   "language": "python",
   "name": "python3"
  },
  "language_info": {
   "codemirror_mode": {
    "name": "ipython",
    "version": 3
   },
   "file_extension": ".py",
   "mimetype": "text/x-python",
   "name": "python",
   "nbconvert_exporter": "python",
   "pygments_lexer": "ipython3",
   "version": "3.11.5"
  },
  "orig_nbformat": 4
 },
 "nbformat": 4,
 "nbformat_minor": 2
}
