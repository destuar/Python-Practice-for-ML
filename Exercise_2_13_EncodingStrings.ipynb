{
 "cells": [
  {
   "cell_type": "markdown",
   "metadata": {},
   "source": [
    "Link to Medium blog post: https://medium.com/@haya.toumy/encoding-string-variables-in-python-and-dealing-with-null-values-93f8e48fe5c1"
   ]
  },
  {
   "cell_type": "markdown",
   "metadata": {},
   "source": [
    "# Encoding String Variables in Python, and Dealing With Null Values"
   ]
  },
  {
   "cell_type": "markdown",
   "metadata": {},
   "source": [
    "## Straight-forward way, with dictionaries:"
   ]
  },
  {
   "cell_type": "markdown",
   "metadata": {},
   "source": [
    "Make a dictionary which keys are the columns you want to change to numbers; and values are what you want to change to. These values are in their turn a dictionary of the the strings you want to encode (as keys), and the integer value you chose to assign to it. Say I have three columns,"
   ]
  },
  {
   "cell_type": "code",
   "execution_count": 1,
   "metadata": {},
   "outputs": [],
   "source": [
    "quality = ['excellent', 'good', 'acceptable', 'poor']\n",
    "sizes = ['huge','good','small']\n",
    "shades = ['blue','grey']\n",
    "nums = {\n",
    "    'quality' : {'excellent' : 3, 'good' : 2, 'acceptable' : 1, 'poor' : 0},\n",
    "    'sizes' : {'huge' : 3 , 'good' : 2, 'small' : 1},\n",
    "    'shades' : {'grey' : 2 , 'blue': 5}\n",
    "}"
   ]
  },
  {
   "cell_type": "markdown",
   "metadata": {},
   "source": [
    "Then replace these columns in your dataframe:"
   ]
  },
  {
   "cell_type": "code",
   "execution_count": null,
   "metadata": {},
   "outputs": [],
   "source": [
    "df.replace(nums, inplace = True)"
   ]
  },
  {
   "cell_type": "markdown",
   "metadata": {},
   "source": [
    "Without the argument inplace = True, changes are not saved to the df, but showed for your inspection.\n",
    "\n",
    "You can also use a dictionary with .map on a pandas series:"
   ]
  },
  {
   "cell_type": "code",
   "execution_count": null,
   "metadata": {},
   "outputs": [],
   "source": [
    "classes_numerical = df['classes'].map({'sick': 1, 'healthy':0})"
   ]
  },
  {
   "cell_type": "markdown",
   "metadata": {},
   "source": [
    "## Using .astype('category').cat.codes"
   ]
  },
  {
   "cell_type": "markdown",
   "metadata": {},
   "source": [
    "Suppose I have a column called quality having these values:"
   ]
  },
  {
   "cell_type": "code",
   "execution_count": 5,
   "metadata": {},
   "outputs": [],
   "source": [
    "quality = ['excellent','good','acceptable','poor']"
   ]
  },
  {
   "cell_type": "markdown",
   "metadata": {},
   "source": [
    "I want to change them into numbers to reflect quality.\n",
    "\n",
    "Also beware, that you need quality to be a pandas dataframe, because .cat.codes work on pandas Series. To change a list to dataframe, do\n",
    "\n"
   ]
  },
  {
   "cell_type": "code",
   "execution_count": 6,
   "metadata": {},
   "outputs": [
    {
     "data": {
      "text/html": [
       "<div>\n",
       "<style scoped>\n",
       "    .dataframe tbody tr th:only-of-type {\n",
       "        vertical-align: middle;\n",
       "    }\n",
       "\n",
       "    .dataframe tbody tr th {\n",
       "        vertical-align: top;\n",
       "    }\n",
       "\n",
       "    .dataframe thead th {\n",
       "        text-align: right;\n",
       "    }\n",
       "</style>\n",
       "<table border=\"1\" class=\"dataframe\">\n",
       "  <thead>\n",
       "    <tr style=\"text-align: right;\">\n",
       "      <th></th>\n",
       "      <th>quality</th>\n",
       "    </tr>\n",
       "  </thead>\n",
       "  <tbody>\n",
       "    <tr>\n",
       "      <th>0</th>\n",
       "      <td>excellent</td>\n",
       "    </tr>\n",
       "    <tr>\n",
       "      <th>1</th>\n",
       "      <td>good</td>\n",
       "    </tr>\n",
       "    <tr>\n",
       "      <th>2</th>\n",
       "      <td>acceptable</td>\n",
       "    </tr>\n",
       "    <tr>\n",
       "      <th>3</th>\n",
       "      <td>poor</td>\n",
       "    </tr>\n",
       "  </tbody>\n",
       "</table>\n",
       "</div>"
      ],
      "text/plain": [
       "      quality\n",
       "0   excellent\n",
       "1        good\n",
       "2  acceptable\n",
       "3        poor"
      ]
     },
     "execution_count": 6,
     "metadata": {},
     "output_type": "execute_result"
    }
   ],
   "source": [
    "import pandas as pd\n",
    "pd.DataFrame(quality, columns=['quality'])"
   ]
  },
  {
   "cell_type": "markdown",
   "metadata": {},
   "source": [
    "Then,"
   ]
  },
  {
   "cell_type": "code",
   "execution_count": null,
   "metadata": {},
   "outputs": [],
   "source": [
    "quality['quality'].astype('category').cat.codes"
   ]
  },
  {
   "cell_type": "markdown",
   "metadata": {},
   "source": [
    "Beware! using .cat.codes codes your columns alphabetically starting from zero! You’ll have this as a result:"
   ]
  },
  {
   "attachments": {
    "image.png": {
     "image/png": "[encoded data removed]"
    }
   },
   "cell_type": "markdown",
   "metadata": {},
   "source": [
    "![image.png](attachment:image.png)"
   ]
  },
  {
   "cell_type": "markdown",
   "metadata": {},
   "source": [
    "That might not be what you want, but it will give you a quick way to change a string Series to numbers to include it in your model. Like when you have two ordinal values and you want a quick convert.\n",
    "\n",
    "For sake of completenes, here’s an example with encoding several columns at once:"
   ]
  },
  {
   "cell_type": "code",
   "execution_count": null,
   "metadata": {},
   "outputs": [],
   "source": [
    "ordinals = ['exter_qual', 'exter_cond', 'bsmt_cond', 'heating_qc', 'kitchen_qual', 'fireplace_qu', 'garage_qual', 'garage_cond','pool_qc']"
   ]
  },
  {
   "cell_type": "code",
   "execution_count": null,
   "metadata": {},
   "outputs": [],
   "source": [
    "new_df = pd.DataFrame(df[ordinals])\n"
   ]
  },
  {
   "cell_type": "markdown",
   "metadata": {},
   "source": [
    "Now I encode them, using a dictionary comprehension, and changing it at once to a dataframe; and saving my changes:"
   ]
  },
  {
   "cell_type": "code",
   "execution_count": null,
   "metadata": {},
   "outputs": [],
   "source": [
    "df[ordinals] = \n",
    "pd.DataFrame({col: new_df[col].astype('category').cat.codes for col in new_df}, index = df.index)"
   ]
  },
  {
   "cell_type": "markdown",
   "metadata": {},
   "source": [
    "The index argument at the end is to take the row numbers (the indices) from the original dataframe, or whatever dataframe that matches row numbers. If you want to rename the columns in your new dataframe made by the dictionary, use the argument columns= and make sure you feed it a list; (even if your case is one element, in the case you have one column only).\n",
    "Don’t forget to save it over your original dataframe subset, so it would replace the categorical columns with the new encoded ones."
   ]
  },
  {
   "cell_type": "markdown",
   "metadata": {},
   "source": [
    "## Dummies, a.k.a. one hot encoding:"
   ]
  },
  {
   "cell_type": "markdown",
   "metadata": {},
   "source": [
    "This can simply be done like so:"
   ]
  },
  {
   "cell_type": "code",
   "execution_count": null,
   "metadata": {},
   "outputs": [],
   "source": [
    "cols_to_encode = ['rbc','pc','pcc','ba','htn','dm','cad','appet','pe','ane']\n",
    "dummies = pd.get_dummies(X[cols_to_encode], prefix=cols_to_encode)"
   ]
  },
  {
   "cell_type": "markdown",
   "metadata": {},
   "source": [
    "X is the name of my dataframe. cols_to_encode has the column names I want to encode."
   ]
  },
  {
   "cell_type": "markdown",
   "metadata": {},
   "source": [
    "This is also very handy tool to get rid of NaNs, by setting the argument dummy_na = True in pd.get_dummies:"
   ]
  },
  {
   "cell_type": "code",
   "execution_count": null,
   "metadata": {},
   "outputs": [],
   "source": [
    "# create dummies AND drop NaNs\n",
    "cols_to_encode = ['rbc','pc','pcc','ba','htn','dm','cad','appet','pe','ane']\n",
    "dummies = pd.get_dummies(X[cols_to_encode], prefix=cols_to_encode, dummy_na=True)\n",
    "#Removing the nan columns\n",
    "nan_col_list = [s for s in dummies.columns if 'nan' in s] \n",
    "# columns has nan in their name\n",
    "dummies.drop(columns = nan_col_list, axis = 1, inplace = True)"
   ]
  },
  {
   "cell_type": "markdown",
   "metadata": {},
   "source": [
    "axis = 1 to drop from the columns, vs. axis = 0 to drop rows.\n",
    "inplace = True to save your changes.\n",
    "prefix adds a prefix and underscore to each dummy column so you know which dummies belong to which variable.\n",
    "\n",
    "I used a list comprehension in nan_col_list to find all columns containing ‘nan’ in their names."
   ]
  },
  {
   "cell_type": "markdown",
   "metadata": {},
   "source": [
    "Then I can filter these rows (using .loc) and drop them from a certain column if I wish to do so later on."
   ]
  },
  {
   "cell_type": "code",
   "execution_count": null,
   "metadata": {},
   "outputs": [],
   "source": [
    "df.loc[pd.isnull(df['col_name']), :]"
   ]
  }
 ],
 "metadata": {
  "kernelspec": {
   "display_name": "Python 3",
   "language": "python",
   "name": "python3"
  },
  "language_info": {
   "codemirror_mode": {
    "name": "ipython",
    "version": 3
   },
   "file_extension": ".py",
   "mimetype": "text/x-python",
   "name": "python",
   "nbconvert_exporter": "python",
   "pygments_lexer": "ipython3",
   "version": "3.11.5"
  },
  "orig_nbformat": 4
 },
 "nbformat": 4,
 "nbformat_minor": 2
}
