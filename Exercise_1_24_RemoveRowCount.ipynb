{
 "cells": [
  {
   "cell_type": "markdown",
   "metadata": {},
   "source": [
    "Link to Medium blog post: https://towardsdatascience.com/how-to-get-the-row-count-of-a-pandas-dataframe-be67232ad5de"
   ]
  },
  {
   "cell_type": "markdown",
   "metadata": {},
   "source": [
    "Let’s create an example DataFrame that we’ll reference throughout this guide in order to demonstrate a few concepts."
   ]
  },
  {
   "cell_type": "code",
   "execution_count": 1,
   "metadata": {},
   "outputs": [
    {
     "name": "stdout",
     "output_type": "stream",
     "text": [
      "   colA  colB   colC\n",
      "0   1.0  None   True\n",
      "1   2.0     b  False\n",
      "2   NaN     c  False\n",
      "3   4.0     d   True\n",
      "4   5.0     e   None\n"
     ]
    }
   ],
   "source": [
    "import pandas as pd\n",
    "df = pd.DataFrame({\n",
    "    'colA':[1, 2, None, 4, 5], \n",
    "    'colB': [None, 'b', 'c', 'd', 'e'],\n",
    "    'colC': [True, False, False, True, None],\n",
    "})\n",
    "print(df)"
   ]
  },
  {
   "cell_type": "markdown",
   "metadata": {},
   "source": [
    "### Using len()"
   ]
  },
  {
   "cell_type": "markdown",
   "metadata": {},
   "source": [
    "The most simple and clear way to compute the row count of a DataFrame is to use len() built-in method:"
   ]
  },
  {
   "cell_type": "code",
   "execution_count": 2,
   "metadata": {},
   "outputs": [
    {
     "data": {
      "text/plain": [
       "5"
      ]
     },
     "execution_count": 2,
     "metadata": {},
     "output_type": "execute_result"
    }
   ],
   "source": [
    "len(df)"
   ]
  },
  {
   "cell_type": "markdown",
   "metadata": {},
   "source": [
    "Note that you can even pass df.index for slightly improved performance (more on this in the final section of the article):"
   ]
  },
  {
   "cell_type": "code",
   "execution_count": 3,
   "metadata": {},
   "outputs": [
    {
     "data": {
      "text/plain": [
       "5"
      ]
     },
     "execution_count": 3,
     "metadata": {},
     "output_type": "execute_result"
    }
   ],
   "source": [
    "len(df.index)"
   ]
  },
  {
   "cell_type": "markdown",
   "metadata": {},
   "source": [
    "### Using shape"
   ]
  },
  {
   "cell_type": "markdown",
   "metadata": {},
   "source": [
    "Alternatively, you can even use pandas.DataFrame.shape that returns a tuple representing the dimensionality of the DataFrame. The first element of the tuple corresponds to the number of rows while the second element represents the number of columns."
   ]
  },
  {
   "cell_type": "code",
   "execution_count": 4,
   "metadata": {},
   "outputs": [
    {
     "data": {
      "text/plain": [
       "5"
      ]
     },
     "execution_count": 4,
     "metadata": {},
     "output_type": "execute_result"
    }
   ],
   "source": [
    "df.shape[0]"
   ]
  },
  {
   "cell_type": "markdown",
   "metadata": {},
   "source": [
    "You can also unpack the result of df.shape and infer the row count as shown below:"
   ]
  },
  {
   "cell_type": "code",
   "execution_count": 7,
   "metadata": {},
   "outputs": [
    {
     "data": {
      "text/plain": [
       "5"
      ]
     },
     "execution_count": 7,
     "metadata": {},
     "output_type": "execute_result"
    }
   ],
   "source": [
    "n_rows, _ = df.shape\n",
    "n_rows"
   ]
  },
  {
   "cell_type": "markdown",
   "metadata": {},
   "source": [
    "### Using count()"
   ]
  },
  {
   "cell_type": "markdown",
   "metadata": {},
   "source": [
    "The third option you have when it comes to computing row counts in pandas is pandas.DataFrame.count() method that returns the count for non-NA entries.\n",
    "\n",
    "Let’s assume that we want to count all the rows which have no null values under a certain column. The following should do the trick for us:"
   ]
  },
  {
   "cell_type": "code",
   "execution_count": 8,
   "metadata": {},
   "outputs": [
    {
     "data": {
      "text/plain": [
       "4"
      ]
     },
     "execution_count": 8,
     "metadata": {},
     "output_type": "execute_result"
    }
   ],
   "source": [
    "df[df.columns[1]].count()"
   ]
  },
  {
   "cell_type": "markdown",
   "metadata": {},
   "source": [
    "This method should only be used when you want to ignore null values. If this is not the case then you should use either len() or shape.\n",
    "\n"
   ]
  },
  {
   "cell_type": "markdown",
   "metadata": {},
   "source": [
    "### Performance"
   ]
  },
  {
   "cell_type": "markdown",
   "metadata": {},
   "source": [
    "Now that we know a few different ways for computing the count of rows in DataFrames, it would be interesting to discuss the performance implications around them. To do so, we are going to create a larger DataFrame than the one we used so far in this guide."
   ]
  },
  {
   "cell_type": "code",
   "execution_count": 9,
   "metadata": {},
   "outputs": [
    {
     "name": "stdout",
     "output_type": "stream",
     "text": [
      "       A   B   C   D\n",
      "0     69  21  60  61\n",
      "1     84  86   5  15\n",
      "2     82  53  42  58\n",
      "3     17  48  10  68\n",
      "4     37  40  11  54\n",
      "...   ..  ..  ..  ..\n",
      "9995  47  24  52  61\n",
      "9996   2  37  92  17\n",
      "9997  71  65  42   8\n",
      "9998  58  39  57   9\n",
      "9999   5  83   6  86\n",
      "\n",
      "[10000 rows x 4 columns]\n"
     ]
    }
   ],
   "source": [
    "import numpy as np\n",
    "import pandas as pd\n",
    "df = pd.DataFrame(\n",
    "    np.random.randint(0, 100, size=(10000, 4)),\n",
    "    columns=list('ABCD')\n",
    ")\n",
    "print(df)"
   ]
  },
  {
   "cell_type": "markdown",
   "metadata": {},
   "source": [
    "In order to evaluate performance, we are going to use timeit which is useful when it comes to timing small bits of Python code."
   ]
  },
  {
   "cell_type": "code",
   "execution_count": null,
   "metadata": {},
   "outputs": [],
   "source": [
    "'''>>> %timeit len(df)\n",
    "548 ns ± 24.6 ns per loop (mean ± std. dev. of 7 runs, 1000000 loops each)\n",
    ">>> %timeit len(df.index)\n",
    "358 ns ± 10.3 ns per loop (mean ± std. dev. of 7 runs, 1000000 loops each)\n",
    ">>> %timeit df.shape[0]\n",
    "904 ns ± 48 ns per loop (mean ± std. dev. of 7 runs, 1000000 loops each)\n",
    ">>> %timeit df[df.columns[1]].count()\n",
    "81.9 µs ± 4.91 µs per loop (mean ± std. dev. of 7 runs, 10000 loops each)'''"
   ]
  },
  {
   "cell_type": "markdown",
   "metadata": {},
   "source": [
    "We can see from the results above that the most efficient way for counting rows in pandas is len() method. By providing just the index (len(df.index)) is even faster.\n",
    "\n",
    "The least efficient way is count() and thus you should only be using this method only if you need to exclude null entries from the counts.\n",
    "\n"
   ]
  }
 ],
 "metadata": {
  "kernelspec": {
   "display_name": "Python 3",
   "language": "python",
   "name": "python3"
  },
  "language_info": {
   "codemirror_mode": {
    "name": "ipython",
    "version": 3
   },
   "file_extension": ".py",
   "mimetype": "text/x-python",
   "name": "python",
   "nbconvert_exporter": "python",
   "pygments_lexer": "ipython3",
   "version": "3.11.5"
  },
  "orig_nbformat": 4
 },
 "nbformat": 4,
 "nbformat_minor": 2
}
